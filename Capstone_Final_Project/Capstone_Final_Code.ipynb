{
 "cells": [
  {
   "cell_type": "markdown",
   "metadata": {},
   "source": [
    "# Logistic Regression Project\n",
    "### By Rob Arao on March 17, 2018¶\n",
    "\n",
    "In this project I will using multinomial NB to create 2 models to predict single words and tri-gram. The section will be divided as follows:\n",
    "\n",
    "*    'I. Data Wrangling': creating working dataframe\n",
    "*    'II. Story Telling': plots of word count and inferential statistics\n",
    "*    'III. Text Preprocesssing': editing stopword list\n",
    "*    'IV. Model 1 Developement': single word\n",
    "*    'V. Model 2 Developement': tri-gram"
   ]
  },
  {
   "cell_type": "code",
   "execution_count": 1,
   "metadata": {
    "collapsed": false
   },
   "outputs": [],
   "source": [
    "import numpy as np\n",
    "import pandas as pd\n",
    "import datetime\n",
    "import pandas as pd\n",
    "import matplotlib.pyplot as plt"
   ]
  },
  {
   "cell_type": "code",
   "execution_count": 2,
   "metadata": {
    "collapsed": true
   },
   "outputs": [],
   "source": [
    "import nltk\n",
    "#Need to download stopwords (d-(l)-stopwords-q) then comment out.\n",
    "#nltk.download_shell()"
   ]
  },
  {
   "cell_type": "markdown",
   "metadata": {},
   "source": [
    "<div class=\"span5 alert alert-info\">\n",
    "<h3>I. DATA WRANGLING</h3>\n",
    "\n",
    "<ul>\n",
    "  <li> <b>CREATE DATAFRAME:</b> Merge cases and controls together\n",
    "        <ul> <b>assess missingness</b>,</ul>\n",
    "  <li> <b>ADJUST DATETIME:</b> Extract Month-Year\n",
    "  <li> <b>EDIT BLOB CONTENTS:</b> Remove unnecessary medication info and format characters\n",
    "</ul>\n",
    "</div>"
   ]
  },
  {
   "cell_type": "code",
   "execution_count": 3,
   "metadata": {
    "collapsed": false
   },
   "outputs": [],
   "source": [
    "BLOBS_cases=pd.read_excel(\"cases_blobs_03152018_noduplicates.xlsx\",encoding=\"utf-8\")\n",
    "BLOBS_controls=pd.read_excel(\"controls_blobs_03152018_noduplicates.xlsx\",encoding=\"utf-8\")\n",
    "casecontrols=pd.read_excel(\"Matched_Cases&Controls_2018-03-14.xlsx\",encoding=\"utf-8\")"
   ]
  },
  {
   "cell_type": "code",
   "execution_count": 4,
   "metadata": {
    "collapsed": false
   },
   "outputs": [],
   "source": [
    "df_cases_blobs=pd.merge(BLOBS_cases,casecontrols[['HMCID','FACILITY_CD','ADMIT_DTTM','EVENT_DTTM']], on='HMCID', how='left')\n",
    "df_controls_blobs=pd.merge(BLOBS_controls,casecontrols[['HMCID','FACILITY_CD','ADMIT_DTTM','EVENT_DTTM']], on='HMCID', how='left')"
   ]
  },
  {
   "cell_type": "code",
   "execution_count": 5,
   "metadata": {
    "collapsed": true
   },
   "outputs": [],
   "source": [
    "df_combined_a=df_cases_blobs.append(df_controls_blobs, ignore_index=True)"
   ]
  },
  {
   "cell_type": "code",
   "execution_count": 112,
   "metadata": {
    "collapsed": false
   },
   "outputs": [
    {
     "name": "stdout",
     "output_type": "stream",
     "text": [
      "<class 'pandas.core.frame.DataFrame'>\n",
      "RangeIndex: 6777 entries, 0 to 6776\n",
      "Data columns (total 10 columns):\n",
      "UPDT_CNT             6775 non-null float64\n",
      "CLINICAL_EVENT_ID    6775 non-null float64\n",
      "BLOB_CONTENTS        6775 non-null object\n",
      "BLOB_SEQ_NUM         6775 non-null float64\n",
      "EID                  6777 non-null object\n",
      "HMCID                6777 non-null object\n",
      "cases                6777 non-null int64\n",
      "FACILITY_CD          6777 non-null object\n",
      "ADMIT_DTTM           6777 non-null object\n",
      "EVENT_DTTM           6777 non-null object\n",
      "dtypes: float64(3), int64(1), object(6)\n",
      "memory usage: 529.5+ KB\n"
     ]
    }
   ],
   "source": [
    "df_combined_a.info()"
   ]
  },
  {
   "cell_type": "code",
   "execution_count": 6,
   "metadata": {
    "collapsed": false
   },
   "outputs": [],
   "source": [
    "df_combined_working=df_combined_a.dropna()"
   ]
  },
  {
   "cell_type": "code",
   "execution_count": 7,
   "metadata": {
    "collapsed": false
   },
   "outputs": [
    {
     "data": {
      "text/html": [
       "<div>\n",
       "<table border=\"1\" class=\"dataframe\">\n",
       "  <thead>\n",
       "    <tr style=\"text-align: right;\">\n",
       "      <th>FACILITY_CD</th>\n",
       "      <th>HMC</th>\n",
       "      <th>UWMC</th>\n",
       "      <th>All</th>\n",
       "    </tr>\n",
       "    <tr>\n",
       "      <th>cases</th>\n",
       "      <th></th>\n",
       "      <th></th>\n",
       "      <th></th>\n",
       "    </tr>\n",
       "  </thead>\n",
       "  <tbody>\n",
       "    <tr>\n",
       "      <th>0</th>\n",
       "      <td>3401</td>\n",
       "      <td>521</td>\n",
       "      <td>3922</td>\n",
       "    </tr>\n",
       "    <tr>\n",
       "      <th>1</th>\n",
       "      <td>2388</td>\n",
       "      <td>465</td>\n",
       "      <td>2853</td>\n",
       "    </tr>\n",
       "    <tr>\n",
       "      <th>All</th>\n",
       "      <td>5789</td>\n",
       "      <td>986</td>\n",
       "      <td>6775</td>\n",
       "    </tr>\n",
       "  </tbody>\n",
       "</table>\n",
       "</div>"
      ],
      "text/plain": [
       "FACILITY_CD   HMC  UWMC   All\n",
       "cases                        \n",
       "0            3401   521  3922\n",
       "1            2388   465  2853\n",
       "All          5789   986  6775"
      ]
     },
     "execution_count": 7,
     "metadata": {},
     "output_type": "execute_result"
    }
   ],
   "source": [
    "pd.crosstab(df_combined_working.cases, df_combined_working.FACILITY_CD, margins=True)"
   ]
  },
  {
   "cell_type": "code",
   "execution_count": null,
   "metadata": {
    "collapsed": true
   },
   "outputs": [],
   "source": []
  },
  {
   "cell_type": "code",
   "execution_count": 8,
   "metadata": {
    "collapsed": false
   },
   "outputs": [
    {
     "name": "stdout",
     "output_type": "stream",
     "text": [
      "<class 'pandas.core.frame.DataFrame'>\n",
      "Int64Index: 6775 entries, 0 to 6775\n",
      "Data columns (total 10 columns):\n",
      "UPDT_CNT             6775 non-null float64\n",
      "CLINICAL_EVENT_ID    6775 non-null float64\n",
      "BLOB_CONTENTS        6775 non-null object\n",
      "BLOB_SEQ_NUM         6775 non-null float64\n",
      "EID                  6775 non-null object\n",
      "HMCID                6775 non-null object\n",
      "cases                6775 non-null int64\n",
      "FACILITY_CD          6775 non-null object\n",
      "ADMIT_DTTM           6775 non-null object\n",
      "EVENT_DTTM           6775 non-null object\n",
      "dtypes: float64(3), int64(1), object(6)\n",
      "memory usage: 582.2+ KB\n"
     ]
    }
   ],
   "source": [
    "#Assess missingingness\n",
    "df_combined_working.info()"
   ]
  },
  {
   "cell_type": "code",
   "execution_count": 9,
   "metadata": {
    "collapsed": false
   },
   "outputs": [
    {
     "data": {
      "text/plain": [
       "UPDT_CNT             False\n",
       "CLINICAL_EVENT_ID    False\n",
       "BLOB_CONTENTS        False\n",
       "BLOB_SEQ_NUM         False\n",
       "EID                  False\n",
       "HMCID                False\n",
       "cases                False\n",
       "FACILITY_CD          False\n",
       "ADMIT_DTTM           False\n",
       "EVENT_DTTM           False\n",
       "dtype: bool"
      ]
     },
     "execution_count": 9,
     "metadata": {},
     "output_type": "execute_result"
    }
   ],
   "source": [
    "#identifying which columns/rows has the missing values\n",
    "df_combined_working.isnull().any()"
   ]
  },
  {
   "cell_type": "code",
   "execution_count": 10,
   "metadata": {
    "collapsed": false
   },
   "outputs": [
    {
     "data": {
      "text/html": [
       "<div>\n",
       "<table border=\"1\" class=\"dataframe\">\n",
       "  <thead>\n",
       "    <tr style=\"text-align: right;\">\n",
       "      <th></th>\n",
       "      <th>UPDT_CNT</th>\n",
       "      <th>CLINICAL_EVENT_ID</th>\n",
       "      <th>BLOB_CONTENTS</th>\n",
       "      <th>BLOB_SEQ_NUM</th>\n",
       "      <th>EID</th>\n",
       "      <th>HMCID</th>\n",
       "      <th>cases</th>\n",
       "      <th>FACILITY_CD</th>\n",
       "      <th>ADMIT_DTTM</th>\n",
       "      <th>EVENT_DTTM</th>\n",
       "    </tr>\n",
       "  </thead>\n",
       "  <tbody>\n",
       "  </tbody>\n",
       "</table>\n",
       "</div>"
      ],
      "text/plain": [
       "Empty DataFrame\n",
       "Columns: [UPDT_CNT, CLINICAL_EVENT_ID, BLOB_CONTENTS, BLOB_SEQ_NUM, EID, HMCID, cases, FACILITY_CD, ADMIT_DTTM, EVENT_DTTM]\n",
       "Index: []"
      ]
     },
     "execution_count": 10,
     "metadata": {},
     "output_type": "execute_result"
    }
   ],
   "source": [
    "#double check to ensure nothing is in the blob content before excouding\n",
    "df_missing=df_combined_working[df_combined_working.isnull().any(axis=1)]\n",
    "df_missing.head()"
   ]
  },
  {
   "cell_type": "markdown",
   "metadata": {},
   "source": [
    "# Based on above, there is no missing data"
   ]
  },
  {
   "cell_type": "code",
   "execution_count": null,
   "metadata": {
    "collapsed": true
   },
   "outputs": [],
   "source": []
  },
  {
   "cell_type": "markdown",
   "metadata": {},
   "source": [
    "## In dealing with date time, will need to change the object into a datetime format.\n",
    "For future analysis, will create just a Month-Year, and Year column for both ADMIT_DTTM and EVENT_DTTM"
   ]
  },
  {
   "cell_type": "code",
   "execution_count": 11,
   "metadata": {
    "collapsed": false
   },
   "outputs": [
    {
     "name": "stdout",
     "output_type": "stream",
     "text": [
      "<class 'pandas.core.frame.DataFrame'>\n",
      "Int64Index: 6775 entries, 0 to 6775\n",
      "Data columns (total 10 columns):\n",
      "UPDT_CNT             6775 non-null float64\n",
      "CLINICAL_EVENT_ID    6775 non-null float64\n",
      "BLOB_CONTENTS        6775 non-null object\n",
      "BLOB_SEQ_NUM         6775 non-null float64\n",
      "EID                  6775 non-null object\n",
      "HMCID                6775 non-null object\n",
      "cases                6775 non-null int64\n",
      "FACILITY_CD          6775 non-null object\n",
      "ADMIT_DTTM           6775 non-null datetime64[ns]\n",
      "EVENT_DTTM           6775 non-null datetime64[ns]\n",
      "dtypes: datetime64[ns](2), float64(3), int64(1), object(4)\n",
      "memory usage: 582.2+ KB\n"
     ]
    },
    {
     "name": "stderr",
     "output_type": "stream",
     "text": [
      "C:\\Users\\arao2\\Anaconda3\\lib\\site-packages\\ipykernel\\__main__.py:1: SettingWithCopyWarning: \n",
      "A value is trying to be set on a copy of a slice from a DataFrame.\n",
      "Try using .loc[row_indexer,col_indexer] = value instead\n",
      "\n",
      "See the caveats in the documentation: http://pandas.pydata.org/pandas-docs/stable/indexing.html#indexing-view-versus-copy\n",
      "  if __name__ == '__main__':\n",
      "C:\\Users\\arao2\\Anaconda3\\lib\\site-packages\\ipykernel\\__main__.py:2: SettingWithCopyWarning: \n",
      "A value is trying to be set on a copy of a slice from a DataFrame.\n",
      "Try using .loc[row_indexer,col_indexer] = value instead\n",
      "\n",
      "See the caveats in the documentation: http://pandas.pydata.org/pandas-docs/stable/indexing.html#indexing-view-versus-copy\n",
      "  from ipykernel import kernelapp as app\n"
     ]
    }
   ],
   "source": [
    "df_combined_working['ADMIT_DTTM'] =  pd.to_datetime(df_combined_working['ADMIT_DTTM'],format='%d%b%y:%H:%M:%S')\n",
    "df_combined_working['EVENT_DTTM'] =  pd.to_datetime(df_combined_working['EVENT_DTTM'],format='%d%b%y:%H:%M:%S')\n",
    "df_combined_working.info()"
   ]
  },
  {
   "cell_type": "code",
   "execution_count": 12,
   "metadata": {
    "collapsed": false
   },
   "outputs": [
    {
     "name": "stderr",
     "output_type": "stream",
     "text": [
      "C:\\Users\\arao2\\Anaconda3\\lib\\site-packages\\ipykernel\\__main__.py:2: SettingWithCopyWarning: \n",
      "A value is trying to be set on a copy of a slice from a DataFrame.\n",
      "Try using .loc[row_indexer,col_indexer] = value instead\n",
      "\n",
      "See the caveats in the documentation: http://pandas.pydata.org/pandas-docs/stable/indexing.html#indexing-view-versus-copy\n",
      "  from ipykernel import kernelapp as app\n",
      "C:\\Users\\arao2\\Anaconda3\\lib\\site-packages\\ipykernel\\__main__.py:3: SettingWithCopyWarning: \n",
      "A value is trying to be set on a copy of a slice from a DataFrame.\n",
      "Try using .loc[row_indexer,col_indexer] = value instead\n",
      "\n",
      "See the caveats in the documentation: http://pandas.pydata.org/pandas-docs/stable/indexing.html#indexing-view-versus-copy\n",
      "  app.launch_new_instance()\n",
      "C:\\Users\\arao2\\Anaconda3\\lib\\site-packages\\ipykernel\\__main__.py:4: SettingWithCopyWarning: \n",
      "A value is trying to be set on a copy of a slice from a DataFrame.\n",
      "Try using .loc[row_indexer,col_indexer] = value instead\n",
      "\n",
      "See the caveats in the documentation: http://pandas.pydata.org/pandas-docs/stable/indexing.html#indexing-view-versus-copy\n",
      "C:\\Users\\arao2\\Anaconda3\\lib\\site-packages\\ipykernel\\__main__.py:6: SettingWithCopyWarning: \n",
      "A value is trying to be set on a copy of a slice from a DataFrame.\n",
      "Try using .loc[row_indexer,col_indexer] = value instead\n",
      "\n",
      "See the caveats in the documentation: http://pandas.pydata.org/pandas-docs/stable/indexing.html#indexing-view-versus-copy\n",
      "C:\\Users\\arao2\\Anaconda3\\lib\\site-packages\\ipykernel\\__main__.py:7: SettingWithCopyWarning: \n",
      "A value is trying to be set on a copy of a slice from a DataFrame.\n",
      "Try using .loc[row_indexer,col_indexer] = value instead\n",
      "\n",
      "See the caveats in the documentation: http://pandas.pydata.org/pandas-docs/stable/indexing.html#indexing-view-versus-copy\n",
      "C:\\Users\\arao2\\Anaconda3\\lib\\site-packages\\ipykernel\\__main__.py:8: SettingWithCopyWarning: \n",
      "A value is trying to be set on a copy of a slice from a DataFrame.\n",
      "Try using .loc[row_indexer,col_indexer] = value instead\n",
      "\n",
      "See the caveats in the documentation: http://pandas.pydata.org/pandas-docs/stable/indexing.html#indexing-view-versus-copy\n"
     ]
    }
   ],
   "source": [
    "#extract year\n",
    "df_combined_working['event_year'] = df_combined_working['EVENT_DTTM'].dt.year\n",
    "df_combined_working['event_month'] = df_combined_working['EVENT_DTTM'].dt.month\n",
    "df_combined_working['event_monyr'] = df_combined_working['EVENT_DTTM'].apply(lambda x: x.strftime('%B-%Y')) \n",
    "\n",
    "df_combined_working['admit_year'] = df_combined_working['ADMIT_DTTM'].dt.year\n",
    "df_combined_working['admit_month'] = df_combined_working['ADMIT_DTTM'].dt.month\n",
    "df_combined_working['admit_monyr'] = df_combined_working['ADMIT_DTTM'].apply(lambda x: x.strftime('%B-%Y')) "
   ]
  },
  {
   "cell_type": "code",
   "execution_count": 13,
   "metadata": {
    "collapsed": false
   },
   "outputs": [
    {
     "data": {
      "text/html": [
       "<div>\n",
       "<table border=\"1\" class=\"dataframe\">\n",
       "  <thead>\n",
       "    <tr style=\"text-align: right;\">\n",
       "      <th></th>\n",
       "      <th>UPDT_CNT</th>\n",
       "      <th>CLINICAL_EVENT_ID</th>\n",
       "      <th>BLOB_CONTENTS</th>\n",
       "      <th>BLOB_SEQ_NUM</th>\n",
       "      <th>EID</th>\n",
       "      <th>HMCID</th>\n",
       "      <th>cases</th>\n",
       "      <th>FACILITY_CD</th>\n",
       "      <th>ADMIT_DTTM</th>\n",
       "      <th>EVENT_DTTM</th>\n",
       "      <th>event_year</th>\n",
       "      <th>event_month</th>\n",
       "      <th>event_monyr</th>\n",
       "      <th>admit_year</th>\n",
       "      <th>admit_month</th>\n",
       "      <th>admit_monyr</th>\n",
       "    </tr>\n",
       "  </thead>\n",
       "  <tbody>\n",
       "    <tr>\n",
       "      <th>0</th>\n",
       "      <td>1.0</td>\n",
       "      <td>3.918091e+09</td>\n",
       "      <td>\\n \\n \\nID/CC \\n25 yo male with no know prior...</td>\n",
       "      <td>1.0</td>\n",
       "      <td>86e72698-9126-11e4-9435-00155dfb8959</td>\n",
       "      <td>H3679043</td>\n",
       "      <td>1</td>\n",
       "      <td>HMC</td>\n",
       "      <td>2015-01-08 09:36:00</td>\n",
       "      <td>2015-01-08 15:20:00</td>\n",
       "      <td>2015</td>\n",
       "      <td>1</td>\n",
       "      <td>January-2015</td>\n",
       "      <td>2015</td>\n",
       "      <td>1</td>\n",
       "      <td>January-2015</td>\n",
       "    </tr>\n",
       "    <tr>\n",
       "      <th>1</th>\n",
       "      <td>2.0</td>\n",
       "      <td>3.908087e+09</td>\n",
       "      <td>\\n \\n \\nID/CC \\nJackson is a 25 year old male...</td>\n",
       "      <td>1.0</td>\n",
       "      <td>4320febf-91b7-11e4-9435-00155dfb8959</td>\n",
       "      <td>H3660100</td>\n",
       "      <td>1</td>\n",
       "      <td>HMC</td>\n",
       "      <td>2015-01-01 05:07:00</td>\n",
       "      <td>2015-01-01 17:20:00</td>\n",
       "      <td>2015</td>\n",
       "      <td>1</td>\n",
       "      <td>January-2015</td>\n",
       "      <td>2015</td>\n",
       "      <td>1</td>\n",
       "      <td>January-2015</td>\n",
       "    </tr>\n",
       "    <tr>\n",
       "      <th>2</th>\n",
       "      <td>1.0</td>\n",
       "      <td>3.907800e+09</td>\n",
       "      <td>\\n \\n \\nID/CC \\n33 year old male with signifi...</td>\n",
       "      <td>1.0</td>\n",
       "      <td>e0d430f8-91b0-11e4-9435-00155dfb8959</td>\n",
       "      <td>H2217426</td>\n",
       "      <td>1</td>\n",
       "      <td>HMC</td>\n",
       "      <td>2015-01-01 04:22:00</td>\n",
       "      <td>2015-01-01 11:06:00</td>\n",
       "      <td>2015</td>\n",
       "      <td>1</td>\n",
       "      <td>January-2015</td>\n",
       "      <td>2015</td>\n",
       "      <td>1</td>\n",
       "      <td>January-2015</td>\n",
       "    </tr>\n",
       "  </tbody>\n",
       "</table>\n",
       "</div>"
      ],
      "text/plain": [
       "   UPDT_CNT  CLINICAL_EVENT_ID  \\\n",
       "0       1.0       3.918091e+09   \n",
       "1       2.0       3.908087e+09   \n",
       "2       1.0       3.907800e+09   \n",
       "\n",
       "                                       BLOB_CONTENTS  BLOB_SEQ_NUM  \\\n",
       "0   \\n \\n \\nID/CC \\n25 yo male with no know prior...           1.0   \n",
       "1   \\n \\n \\nID/CC \\nJackson is a 25 year old male...           1.0   \n",
       "2   \\n \\n \\nID/CC \\n33 year old male with signifi...           1.0   \n",
       "\n",
       "                                    EID     HMCID  cases FACILITY_CD  \\\n",
       "0  86e72698-9126-11e4-9435-00155dfb8959  H3679043      1         HMC   \n",
       "1  4320febf-91b7-11e4-9435-00155dfb8959  H3660100      1         HMC   \n",
       "2  e0d430f8-91b0-11e4-9435-00155dfb8959  H2217426      1         HMC   \n",
       "\n",
       "           ADMIT_DTTM          EVENT_DTTM  event_year  event_month  \\\n",
       "0 2015-01-08 09:36:00 2015-01-08 15:20:00        2015            1   \n",
       "1 2015-01-01 05:07:00 2015-01-01 17:20:00        2015            1   \n",
       "2 2015-01-01 04:22:00 2015-01-01 11:06:00        2015            1   \n",
       "\n",
       "    event_monyr  admit_year  admit_month   admit_monyr  \n",
       "0  January-2015        2015            1  January-2015  \n",
       "1  January-2015        2015            1  January-2015  \n",
       "2  January-2015        2015            1  January-2015  "
      ]
     },
     "execution_count": 13,
     "metadata": {},
     "output_type": "execute_result"
    }
   ],
   "source": [
    "df_combined_working.head(3)"
   ]
  },
  {
   "cell_type": "code",
   "execution_count": 14,
   "metadata": {
    "collapsed": false
   },
   "outputs": [
    {
     "name": "stderr",
     "output_type": "stream",
     "text": [
      "C:\\Users\\arao2\\Anaconda3\\lib\\site-packages\\ipykernel\\__main__.py:3: SettingWithCopyWarning: \n",
      "A value is trying to be set on a copy of a slice from a DataFrame.\n",
      "Try using .loc[row_indexer,col_indexer] = value instead\n",
      "\n",
      "See the caveats in the documentation: http://pandas.pydata.org/pandas-docs/stable/indexing.html#indexing-view-versus-copy\n",
      "  app.launch_new_instance()\n"
     ]
    }
   ],
   "source": [
    "#in order to assess length, need to change 'blob contents' \n",
    "#into string. Create an iteration to do for each row entry.\n",
    "df_combined_working['blob_string']=df_combined_working['BLOB_CONTENTS'].astype('str') "
   ]
  },
  {
   "cell_type": "code",
   "execution_count": null,
   "metadata": {
    "collapsed": true
   },
   "outputs": [],
   "source": []
  },
  {
   "cell_type": "code",
   "execution_count": 15,
   "metadata": {
    "collapsed": false
   },
   "outputs": [],
   "source": [
    "#remove the \\n, \\t, \\'\n",
    "df_combined_working = df_combined_working.replace('\\n','', regex=True)\n",
    "df_combined_working = df_combined_working.replace('\\t','', regex=True)\n",
    "df_combined_working = df_combined_working.replace('\\'','', regex=True)"
   ]
  },
  {
   "cell_type": "code",
   "execution_count": null,
   "metadata": {
    "collapsed": true
   },
   "outputs": [],
   "source": []
  },
  {
   "cell_type": "code",
   "execution_count": 16,
   "metadata": {
    "collapsed": false
   },
   "outputs": [],
   "source": [
    "#REPLACE LIST OF WORDS\n",
    "df_combined_working = df_combined_working.replace('time *evaluation','timeevaluation', regex=True)\n",
    "df_combined_working = df_combined_working.replace('consult *history','consulhistory', regex=True)\n",
    "df_combined_working = df_combined_working.replace('time *consult','timeconsult', regex=True)\n",
    "df_combined_working = df_combined_working.replace('hours *yes','hoursyes', regex=True)\n",
    "df_combined_working = df_combined_working.replace('mins *present','minspresent', regex=True)\n",
    "df_combined_working = df_combined_working.replace('consult *illness','consultillness', regex=True)\n",
    "df_combined_working = df_combined_working.replace('patient *within','patientwithin', regex=True)\n",
    "\n",
    "\n",
    "#EXCLUDE MEDICINE INFO\n",
    "df_combined_working.blob_string.replace(\"Results Review.*Problem List\", \"\", regex=True, inplace=True)"
   ]
  },
  {
   "cell_type": "code",
   "execution_count": 17,
   "metadata": {
    "collapsed": true
   },
   "outputs": [],
   "source": [
    "#create a new columm with length of string content\n",
    "df_combined_working['length']=df_combined_working['blob_string'].apply(len)"
   ]
  },
  {
   "cell_type": "code",
   "execution_count": 18,
   "metadata": {
    "collapsed": false
   },
   "outputs": [
    {
     "data": {
      "text/plain": [
       "count     6775.000000\n",
       "mean      9474.027601\n",
       "std       6097.818108\n",
       "min          2.000000\n",
       "25%       4710.500000\n",
       "50%       8605.000000\n",
       "75%      12710.000000\n",
       "max      32462.000000\n",
       "Name: length, dtype: float64"
      ]
     },
     "execution_count": 18,
     "metadata": {},
     "output_type": "execute_result"
    }
   ],
   "source": [
    "df_combined_working['length'].describe()"
   ]
  },
  {
   "cell_type": "code",
   "execution_count": null,
   "metadata": {
    "collapsed": false
   },
   "outputs": [],
   "source": []
  },
  {
   "cell_type": "markdown",
   "metadata": {
    "collapsed": false
   },
   "source": [
    "<div class=\"span5 alert alert-info\">\n",
    "<h3>II. STORY TELLING</h3>\n",
    "\n",
    "<ul>\n",
    "  <li> <b>CREATE PLOTS:</b> Cases vs Controls\n",
    "        <ul> <b>Histogram</b>,</ul>\n",
    "        <ul> <b>Line plot (over time)</b>,</ul>\n",
    "        <ul> <b>Boxplot</b>,</ul>\n",
    "  <li> <b>Inferential Statistics:</b> mean length with 95%CI\n",
    "          <ul> <b>Cases vs. Controls</b>,</ul>\n",
    "          <ul> <b>HMC vs. UW</b>,</ul>\n",
    "</ul>\n",
    "</div>"
   ]
  },
  {
   "cell_type": "code",
   "execution_count": 19,
   "metadata": {
    "collapsed": false
   },
   "outputs": [
    {
     "data": {
      "text/plain": [
       "dtype('O')"
      ]
     },
     "execution_count": 19,
     "metadata": {},
     "output_type": "execute_result"
    }
   ],
   "source": [
    "#check type of datasets to see why you have to make into string.\n",
    "#i.e. right now, they are as an object.\n",
    "df_combined_working['blob_string'].dtype"
   ]
  },
  {
   "cell_type": "code",
   "execution_count": 20,
   "metadata": {
    "collapsed": false
   },
   "outputs": [
    {
     "data": {
      "text/plain": [
       "count                                                  6775\n",
       "unique                                                 6775\n",
       "top          VISIT INFORMATION: OR Date: 5/3/2017 . Diag...\n",
       "freq                                                      1\n",
       "Name: blob_string, dtype: object"
      ]
     },
     "execution_count": 20,
     "metadata": {},
     "output_type": "execute_result"
    }
   ],
   "source": [
    "#Check the number of rows\n",
    "df_combined_working['blob_string'].describe()"
   ]
  },
  {
   "cell_type": "code",
   "execution_count": 21,
   "metadata": {
    "collapsed": false
   },
   "outputs": [
    {
     "name": "stdout",
     "output_type": "stream",
     "text": [
      "(6775, 18)\n"
     ]
    }
   ],
   "source": [
    "print(df_combined_working.shape)"
   ]
  },
  {
   "cell_type": "code",
   "execution_count": null,
   "metadata": {
    "collapsed": false
   },
   "outputs": [],
   "source": []
  },
  {
   "cell_type": "code",
   "execution_count": 22,
   "metadata": {
    "collapsed": false
   },
   "outputs": [],
   "source": [
    "#make histogram of length for comparison\n",
    "#Been having a problem re-organizing order of histogram.  Will try to create a new \n",
    "# category and try to re-order and plot.  Will do this by a) creating a function\n",
    "# and b) applying the function. \n",
    "\n",
    "#a) Function to create a new numerical category\n",
    "def newCategory (row):\n",
    "    if row['cases']==0:\n",
    "        return ' Control'\n",
    "    if row['cases']==1:\n",
    "        return 'Case'\n",
    "\n",
    "#b) apply above function\n",
    "df_combined_working['numCat'] = df_combined_working.apply (lambda row: newCategory (row),axis=1)"
   ]
  },
  {
   "cell_type": "code",
   "execution_count": 23,
   "metadata": {
    "collapsed": false
   },
   "outputs": [
    {
     "data": {
      "text/plain": [
       "array([<matplotlib.axes._subplots.AxesSubplot object at 0x000001478C32D358>,\n",
       "       <matplotlib.axes._subplots.AxesSubplot object at 0x000001478DBE7EF0>], dtype=object)"
      ]
     },
     "execution_count": 23,
     "metadata": {},
     "output_type": "execute_result"
    },
    {
     "data": {
      "image/png": "[encoded data removed]",
      "text/plain": [
       "<matplotlib.figure.Figure at 0x14784721898>"
      ]
     },
     "metadata": {},
     "output_type": "display_data"
    }
   ],
   "source": [
    "#Plot histogram\n",
    "import seaborn as sns\n",
    "%matplotlib inline\n",
    "df_combined_working.sort_values(by='numCat', ascending=False)\n",
    "df_combined_working.hist(column=\"length\",by=\"numCat\",bins=30, figsize=(12,4))"
   ]
  },
  {
   "cell_type": "markdown",
   "metadata": {},
   "source": [
    "## The above shows that cases have more word counts.  Will superimpose the two histograms."
   ]
  },
  {
   "cell_type": "code",
   "execution_count": 24,
   "metadata": {
    "collapsed": false
   },
   "outputs": [],
   "source": [
    "#superimposing histogram\n",
    "df_contrl=df_combined_working.loc[df_combined_working['cases']==0,['ADMIT_DTTM','cases','length']]\n",
    "df_case=df_combined_working.loc[df_combined_working['cases']==1,['ADMIT_DTTM','cases','length']]"
   ]
  },
  {
   "cell_type": "code",
   "execution_count": 25,
   "metadata": {
    "collapsed": false
   },
   "outputs": [
    {
     "data": {
      "image/png": "[encoded data removed]",
      "text/plain": [
       "<matplotlib.figure.Figure at 0x1478c314a58>"
      ]
     },
     "metadata": {},
     "output_type": "display_data"
    }
   ],
   "source": [
    "df_contrl['length'].plot(kind='hist', bins=20, alpha=.3,color='blue')\n",
    "df_case['length'].plot(kind='hist', bins=20, alpha=.3,color='red')\n",
    "plt.title('Word count in Cases vs Controls')\n",
    "plt.legend([\"Controls\", \"Cases\"])\n",
    "plt.xlabel('Length of Messages')\n",
    "plt.savefig('C:/Users/arao2/Documents/Special Projects/EHR Case Finding/03142018/word_count.png', bbox_inches=\"tight\")\n",
    "plt.show()"
   ]
  },
  {
   "cell_type": "code",
   "execution_count": 26,
   "metadata": {
    "collapsed": true
   },
   "outputs": [],
   "source": [
    "#CREATE LINEPLOT OVER TIME\n",
    "df_dateIndex=df_combined_working.set_index('admit_monyr')"
   ]
  },
  {
   "cell_type": "code",
   "execution_count": 27,
   "metadata": {
    "collapsed": false
   },
   "outputs": [],
   "source": [
    "df_contrl_resample=df_contrl.resample('M',on='ADMIT_DTTM').mean()\n",
    "df_case_resample=df_case.resample('M',on='ADMIT_DTTM').mean()"
   ]
  },
  {
   "cell_type": "code",
   "execution_count": 28,
   "metadata": {
    "collapsed": false
   },
   "outputs": [
    {
     "data": {
      "image/png": "[encoded data removed]",
      "text/plain": [
       "<matplotlib.figure.Figure at 0x1478c8ed7b8>"
      ]
     },
     "metadata": {},
     "output_type": "display_data"
    }
   ],
   "source": [
    "fig, ax= plt.subplots()\n",
    "ax.plot(df_contrl_resample.length, color='b') #plot controls as blue\n",
    "ax.plot(df_case_resample.length, color='r')   #plot cases as red\n",
    "#ax.grid(b=False)\n",
    "\n",
    "plt.xticks(rotation=45)\n",
    "\n",
    "ax.set_title('Word Count of Blobs Over Time')\n",
    "ax.set_ylabel('Word Count')\n",
    "ax.set_xlabel('Time')\n",
    "ax.legend([\"Controls\", \"Cases\"])\n",
    "\n",
    "plt.savefig('C:/Users/arao2/Documents/Special Projects/EHR Case Finding/03142018/time_trend.png', bbox_inches=\"tight\")\n"
   ]
  },
  {
   "cell_type": "code",
   "execution_count": 29,
   "metadata": {
    "collapsed": false
   },
   "outputs": [
    {
     "data": {
      "image/png": "[encoded data removed]",
      "text/plain": [
       "<matplotlib.figure.Figure at 0x1478da79be0>"
      ]
     },
     "metadata": {},
     "output_type": "display_data"
    }
   ],
   "source": [
    "#CREATE BOXPLOT by FACILITY_CD\n",
    "fig, axes = plt.subplots(nrows=1, ncols=2)\n",
    "\n",
    "df_combined_working.loc[df_combined_working['FACILITY_CD'] =='HMC'].plot(ax=axes[0], y='length', kind='box',title='HMC')\n",
    "df_combined_working.loc[df_combined_working['FACILITY_CD'] == 'UWMC'].plot(ax=axes[1], y='length', kind='box',title='UW')\n",
    "plt.show()"
   ]
  },
  {
   "cell_type": "code",
   "execution_count": null,
   "metadata": {
    "collapsed": true
   },
   "outputs": [],
   "source": []
  },
  {
   "cell_type": "markdown",
   "metadata": {},
   "source": [
    "# INFERENTIAL STATISTICS"
   ]
  },
  {
   "cell_type": "code",
   "execution_count": 30,
   "metadata": {
    "collapsed": true
   },
   "outputs": [],
   "source": [
    "#95%CI\n",
    "def ci_i (ci,mean,n,std):\n",
    "    \"\"\"\n",
    "    Input:\n",
    "    Output: 2 tailed confidence interval (95% or 99%)\n",
    "    Note: assumes only 100 DF\n",
    "    \"\"\"\n",
    "    if ci==95:\n",
    "        limit=1.984*(std/((n)**(.5)))\n",
    "        return (mean-limit,mean+limit)\n",
    "    elif ci==99:\n",
    "        limit=2.626*(std/((n)**(.5)))\n",
    "        return (mean-limit,mean+limit)\n",
    "    else:\n",
    "        print(\"Error\")"
   ]
  },
  {
   "cell_type": "code",
   "execution_count": 31,
   "metadata": {
    "collapsed": false
   },
   "outputs": [
    {
     "data": {
      "text/html": [
       "<div>\n",
       "<table border=\"1\" class=\"dataframe\">\n",
       "  <thead>\n",
       "    <tr style=\"text-align: right;\">\n",
       "      <th></th>\n",
       "      <th>count</th>\n",
       "      <th>mean</th>\n",
       "      <th>std</th>\n",
       "      <th>min</th>\n",
       "      <th>25%</th>\n",
       "      <th>50%</th>\n",
       "      <th>75%</th>\n",
       "      <th>max</th>\n",
       "    </tr>\n",
       "    <tr>\n",
       "      <th>numCat</th>\n",
       "      <th></th>\n",
       "      <th></th>\n",
       "      <th></th>\n",
       "      <th></th>\n",
       "      <th></th>\n",
       "      <th></th>\n",
       "      <th></th>\n",
       "      <th></th>\n",
       "    </tr>\n",
       "  </thead>\n",
       "  <tbody>\n",
       "    <tr>\n",
       "      <th>Control</th>\n",
       "      <td>3922.0</td>\n",
       "      <td>6678.819990</td>\n",
       "      <td>4843.769299</td>\n",
       "      <td>2.0</td>\n",
       "      <td>3349.25</td>\n",
       "      <td>5480.0</td>\n",
       "      <td>8776.25</td>\n",
       "      <td>32335.0</td>\n",
       "    </tr>\n",
       "    <tr>\n",
       "      <th>Case</th>\n",
       "      <td>2853.0</td>\n",
       "      <td>13316.580792</td>\n",
       "      <td>5526.833818</td>\n",
       "      <td>90.0</td>\n",
       "      <td>9585.00</td>\n",
       "      <td>12203.0</td>\n",
       "      <td>16163.00</td>\n",
       "      <td>32462.0</td>\n",
       "    </tr>\n",
       "  </tbody>\n",
       "</table>\n",
       "</div>"
      ],
      "text/plain": [
       "           count          mean          std   min      25%      50%       75%  \\\n",
       "numCat                                                                          \n",
       " Control  3922.0   6678.819990  4843.769299   2.0  3349.25   5480.0   8776.25   \n",
       "Case      2853.0  13316.580792  5526.833818  90.0  9585.00  12203.0  16163.00   \n",
       "\n",
       "              max  \n",
       "numCat             \n",
       " Control  32335.0  \n",
       "Case      32462.0  "
      ]
     },
     "execution_count": 31,
     "metadata": {},
     "output_type": "execute_result"
    }
   ],
   "source": [
    "grouped_data = df_combined_working.groupby(['numCat'])\n",
    "grouped_data['length'].describe().unstack()"
   ]
  },
  {
   "cell_type": "code",
   "execution_count": 32,
   "metadata": {
    "collapsed": false
   },
   "outputs": [
    {
     "name": "stdout",
     "output_type": "stream",
     "text": [
      "The mean word count for the controls was 6,678.8 with  95%CI of (6525.4,6832.3)\n",
      "The mean word count for the cases was 13,316.6 with  95%CI of (13111.3,13521.9)\n"
     ]
    }
   ],
   "source": [
    "l1,u1=ci_i(95,6678.82,3922,4843.8)\n",
    "l2,u2=ci_i(95,13316.58,2853,5526.8)\n",
    "\n",
    "print(\"The mean word count for the controls was 6,678.8 with  95%CI of ({:.1f},{:.1f})\".format(l1, u1))\n",
    "print(\"The mean word count for the cases was 13,316.6 with  95%CI of ({:.1f},{:.1f})\".format(l2, u2))"
   ]
  },
  {
   "cell_type": "code",
   "execution_count": 33,
   "metadata": {
    "collapsed": false
   },
   "outputs": [
    {
     "data": {
      "text/html": [
       "<div>\n",
       "<table border=\"1\" class=\"dataframe\">\n",
       "  <thead>\n",
       "    <tr style=\"text-align: right;\">\n",
       "      <th></th>\n",
       "      <th>count</th>\n",
       "      <th>mean</th>\n",
       "      <th>std</th>\n",
       "      <th>min</th>\n",
       "      <th>25%</th>\n",
       "      <th>50%</th>\n",
       "      <th>75%</th>\n",
       "      <th>max</th>\n",
       "    </tr>\n",
       "    <tr>\n",
       "      <th>FACILITY_CD</th>\n",
       "      <th></th>\n",
       "      <th></th>\n",
       "      <th></th>\n",
       "      <th></th>\n",
       "      <th></th>\n",
       "      <th></th>\n",
       "      <th></th>\n",
       "      <th></th>\n",
       "    </tr>\n",
       "  </thead>\n",
       "  <tbody>\n",
       "    <tr>\n",
       "      <th>HMC</th>\n",
       "      <td>5789.0</td>\n",
       "      <td>9438.530143</td>\n",
       "      <td>6162.420109</td>\n",
       "      <td>2.0</td>\n",
       "      <td>4651.0</td>\n",
       "      <td>8482.0</td>\n",
       "      <td>12621.0</td>\n",
       "      <td>32462.0</td>\n",
       "    </tr>\n",
       "    <tr>\n",
       "      <th>UWMC</th>\n",
       "      <td>986.0</td>\n",
       "      <td>9682.440162</td>\n",
       "      <td>5702.292008</td>\n",
       "      <td>118.0</td>\n",
       "      <td>5250.5</td>\n",
       "      <td>9103.5</td>\n",
       "      <td>13262.0</td>\n",
       "      <td>32431.0</td>\n",
       "    </tr>\n",
       "  </tbody>\n",
       "</table>\n",
       "</div>"
      ],
      "text/plain": [
       "              count         mean          std    min     25%     50%      75%  \\\n",
       "FACILITY_CD                                                                     \n",
       "HMC          5789.0  9438.530143  6162.420109    2.0  4651.0  8482.0  12621.0   \n",
       "UWMC          986.0  9682.440162  5702.292008  118.0  5250.5  9103.5  13262.0   \n",
       "\n",
       "                 max  \n",
       "FACILITY_CD           \n",
       "HMC          32462.0  \n",
       "UWMC         32431.0  "
      ]
     },
     "execution_count": 33,
     "metadata": {},
     "output_type": "execute_result"
    }
   ],
   "source": [
    "grouped_data = df_combined_working.groupby(['FACILITY_CD'])\n",
    "grouped_data['length'].describe().unstack()"
   ]
  },
  {
   "cell_type": "code",
   "execution_count": 34,
   "metadata": {
    "collapsed": false
   },
   "outputs": [
    {
     "name": "stdout",
     "output_type": "stream",
     "text": [
      "The mean word count for HMC was 9,438.5 with  95%CI of (9277.8,9599.2)\n",
      "The mean word count for UW was 9,682.4 with  95%CI of (9322.1,10042.7)\n"
     ]
    }
   ],
   "source": [
    "l1,u1=ci_i(95,9438.530143,5789,6162.420109)\n",
    "l2,u2=ci_i(95,9682.440162,986,5702.292008)\n",
    "\n",
    "print(\"The mean word count for HMC was 9,438.5 with  95%CI of ({:.1f},{:.1f})\".format(l1, u1))\n",
    "print(\"The mean word count for UW was 9,682.4 with  95%CI of ({:.1f},{:.1f})\".format(l2, u2))"
   ]
  },
  {
   "cell_type": "markdown",
   "metadata": {},
   "source": [
    "## SUMMARY: The non-overlapping 95% CI suggests that there is a significant difference in mean word count between controls vs. cases, and between the FACILITY_CDs HMC vs UW."
   ]
  },
  {
   "cell_type": "code",
   "execution_count": 35,
   "metadata": {
    "collapsed": false
   },
   "outputs": [
    {
     "data": {
      "text/html": [
       "<div>\n",
       "<table border=\"1\" class=\"dataframe\">\n",
       "  <thead>\n",
       "    <tr style=\"text-align: right;\">\n",
       "      <th>numCat</th>\n",
       "      <th>Control</th>\n",
       "      <th>Case</th>\n",
       "      <th>All</th>\n",
       "    </tr>\n",
       "    <tr>\n",
       "      <th>admit_year</th>\n",
       "      <th></th>\n",
       "      <th></th>\n",
       "      <th></th>\n",
       "    </tr>\n",
       "  </thead>\n",
       "  <tbody>\n",
       "    <tr>\n",
       "      <th>2015</th>\n",
       "      <td>1384</td>\n",
       "      <td>1059</td>\n",
       "      <td>2443</td>\n",
       "    </tr>\n",
       "    <tr>\n",
       "      <th>2016</th>\n",
       "      <td>1454</td>\n",
       "      <td>987</td>\n",
       "      <td>2441</td>\n",
       "    </tr>\n",
       "    <tr>\n",
       "      <th>2017</th>\n",
       "      <td>1084</td>\n",
       "      <td>807</td>\n",
       "      <td>1891</td>\n",
       "    </tr>\n",
       "    <tr>\n",
       "      <th>All</th>\n",
       "      <td>3922</td>\n",
       "      <td>2853</td>\n",
       "      <td>6775</td>\n",
       "    </tr>\n",
       "  </tbody>\n",
       "</table>\n",
       "</div>"
      ],
      "text/plain": [
       "numCat       Control  Case   All\n",
       "admit_year                      \n",
       "2015            1384  1059  2443\n",
       "2016            1454   987  2441\n",
       "2017            1084   807  1891\n",
       "All             3922  2853  6775"
      ]
     },
     "execution_count": 35,
     "metadata": {},
     "output_type": "execute_result"
    }
   ],
   "source": [
    "pd.crosstab(df_combined_working.admit_year, df_combined_working.numCat, margins=True)"
   ]
  },
  {
   "cell_type": "code",
   "execution_count": 36,
   "metadata": {
    "collapsed": false
   },
   "outputs": [
    {
     "data": {
      "text/html": [
       "<div>\n",
       "<table border=\"1\" class=\"dataframe\">\n",
       "  <thead>\n",
       "    <tr style=\"text-align: right;\">\n",
       "      <th>FACILITY_CD</th>\n",
       "      <th>HMC</th>\n",
       "      <th>UWMC</th>\n",
       "      <th>All</th>\n",
       "    </tr>\n",
       "    <tr>\n",
       "      <th>admit_year</th>\n",
       "      <th></th>\n",
       "      <th></th>\n",
       "      <th></th>\n",
       "    </tr>\n",
       "  </thead>\n",
       "  <tbody>\n",
       "    <tr>\n",
       "      <th>2015</th>\n",
       "      <td>2222</td>\n",
       "      <td>221</td>\n",
       "      <td>2443</td>\n",
       "    </tr>\n",
       "    <tr>\n",
       "      <th>2016</th>\n",
       "      <td>2176</td>\n",
       "      <td>265</td>\n",
       "      <td>2441</td>\n",
       "    </tr>\n",
       "    <tr>\n",
       "      <th>2017</th>\n",
       "      <td>1391</td>\n",
       "      <td>500</td>\n",
       "      <td>1891</td>\n",
       "    </tr>\n",
       "    <tr>\n",
       "      <th>All</th>\n",
       "      <td>5789</td>\n",
       "      <td>986</td>\n",
       "      <td>6775</td>\n",
       "    </tr>\n",
       "  </tbody>\n",
       "</table>\n",
       "</div>"
      ],
      "text/plain": [
       "FACILITY_CD   HMC  UWMC   All\n",
       "admit_year                   \n",
       "2015         2222   221  2443\n",
       "2016         2176   265  2441\n",
       "2017         1391   500  1891\n",
       "All          5789   986  6775"
      ]
     },
     "execution_count": 36,
     "metadata": {},
     "output_type": "execute_result"
    }
   ],
   "source": [
    "pd.crosstab(df_combined_working.admit_year, df_combined_working.FACILITY_CD, margins=True)"
   ]
  },
  {
   "cell_type": "code",
   "execution_count": null,
   "metadata": {
    "collapsed": true
   },
   "outputs": [],
   "source": []
  },
  {
   "cell_type": "markdown",
   "metadata": {},
   "source": [
    "<div class=\"span5 alert alert-info\">\n",
    "<h3>III. TEXT PRE-PROCESSING</h3>\n",
    "\n",
    "<ul>\n",
    "  <li> <b>EDIT STOPWORDS:</b> Create a function where I can add to list\n",
    "  <li> <b>Create a function that will implement the following:</b>\n",
    "        <ul> <b>apply stopword list</b>,</ul>\n",
    "        <ul> <b>remove punctuation</b>,</ul>\n",
    "        <ul> <b>return new column so as not to affect original</b>,</ul>\n",
    "\n",
    "</ul>\n",
    "</div>"
   ]
  },
  {
   "cell_type": "markdown",
   "metadata": {
    "collapsed": false
   },
   "source": [
    "# CUSTOMIZING STOPWORDS:\n",
    "    1. Add any extra words to stopword dictionary"
   ]
  },
  {
   "cell_type": "code",
   "execution_count": 37,
   "metadata": {
    "collapsed": false
   },
   "outputs": [],
   "source": [
    "from nltk.corpus import stopwords\n",
    "import string"
   ]
  },
  {
   "cell_type": "code",
   "execution_count": 38,
   "metadata": {
    "collapsed": false
   },
   "outputs": [],
   "source": [
    "#1. Adding new words to set called newWords, then append to library\n",
    "stopwords=nltk.corpus.stopwords.words('english')\n",
    "newWords=[\"idcc\",'a','is','timeevaluation','consulhistory','timeconsult','hoursyes','minspresent','consultillness', \\\n",
    "          'patientwithin','weekendholiday','patient' ,'psychiatry consulted','patient evaluation','consult hours', \\\n",
    "          'evaluated within','3160','mins','5000unitsml','5000','25mg','2mg','86mg','17g','3350nf','200mg', \\\n",
    "          'psychiatry','dailyinfusionsno','recommend'\n",
    "         ]\n",
    "stopwords.extend(newWords)"
   ]
  },
  {
   "cell_type": "code",
   "execution_count": 39,
   "metadata": {
    "collapsed": true
   },
   "outputs": [],
   "source": [
    "#make histogram of length for comparison\n",
    "#Been having a problem re-organizing order of histogram.  Will try to create a new \n",
    "# category and try to re-order and plot.  Will do this by a) creating a function\n",
    "# and b) applying the function. \n",
    "\n",
    "#a) Function to create a new numerical category\n",
    "def newCategory (row):\n",
    "    if row['cases']==0:\n",
    "        return ' Control'\n",
    "    if row['cases']==1:\n",
    "        return 'Case'\n",
    "\n",
    "#b) apply above function\n",
    "df_combined_working['numCat'] = df_combined_working.apply (lambda row: newCategory (row),axis=1)"
   ]
  },
  {
   "cell_type": "markdown",
   "metadata": {},
   "source": [
    "## PROCESSING TEXT"
   ]
  },
  {
   "cell_type": "code",
   "execution_count": 40,
   "metadata": {
    "collapsed": true
   },
   "outputs": [],
   "source": [
    "\n",
    "#TEXT_PROCESS\n",
    "def text_process(mess):\n",
    "    \"\"\"\n",
    "    1. remove punctuation\n",
    "    2. remove stopwords\n",
    "    3. return list of clean text words\n",
    "    \"\"\"\n",
    "\n",
    "    nopunc=[char for char in mess if char not in string.punctuation]\n",
    "    nopunc=''.join(nopunc)\n",
    "    return [word for word in nopunc.split() if word.lower() not in stopwords]"
   ]
  },
  {
   "cell_type": "code",
   "execution_count": 41,
   "metadata": {
    "collapsed": false
   },
   "outputs": [],
   "source": [
    "df_combined_working['message']=df_combined_working['blob_string'].apply(text_process).apply(', '.join)"
   ]
  },
  {
   "cell_type": "code",
   "execution_count": 42,
   "metadata": {
    "collapsed": false
   },
   "outputs": [
    {
     "data": {
      "text/html": [
       "<div>\n",
       "<table border=\"1\" class=\"dataframe\">\n",
       "  <thead>\n",
       "    <tr style=\"text-align: right;\">\n",
       "      <th></th>\n",
       "      <th>UPDT_CNT</th>\n",
       "      <th>CLINICAL_EVENT_ID</th>\n",
       "      <th>BLOB_CONTENTS</th>\n",
       "      <th>BLOB_SEQ_NUM</th>\n",
       "      <th>EID</th>\n",
       "      <th>HMCID</th>\n",
       "      <th>cases</th>\n",
       "      <th>FACILITY_CD</th>\n",
       "      <th>ADMIT_DTTM</th>\n",
       "      <th>EVENT_DTTM</th>\n",
       "      <th>event_year</th>\n",
       "      <th>event_month</th>\n",
       "      <th>event_monyr</th>\n",
       "      <th>admit_year</th>\n",
       "      <th>admit_month</th>\n",
       "      <th>admit_monyr</th>\n",
       "      <th>blob_string</th>\n",
       "      <th>length</th>\n",
       "      <th>numCat</th>\n",
       "      <th>message</th>\n",
       "    </tr>\n",
       "  </thead>\n",
       "  <tbody>\n",
       "    <tr>\n",
       "      <th>0</th>\n",
       "      <td>1.0</td>\n",
       "      <td>3.918091e+09</td>\n",
       "      <td>ID/CC 25 yo male with no know prior history...</td>\n",
       "      <td>1.0</td>\n",
       "      <td>86e72698-9126-11e4-9435-00155dfb8959</td>\n",
       "      <td>H3679043</td>\n",
       "      <td>1</td>\n",
       "      <td>HMC</td>\n",
       "      <td>2015-01-08 09:36:00</td>\n",
       "      <td>2015-01-08 15:20:00</td>\n",
       "      <td>2015</td>\n",
       "      <td>1</td>\n",
       "      <td>January-2015</td>\n",
       "      <td>2015</td>\n",
       "      <td>1</td>\n",
       "      <td>January-2015</td>\n",
       "      <td>ID/CC 25 yo male with no know prior history...</td>\n",
       "      <td>7834</td>\n",
       "      <td>Case</td>\n",
       "      <td>25, yo, male, know, prior, history, mandibular...</td>\n",
       "    </tr>\n",
       "    <tr>\n",
       "      <th>1</th>\n",
       "      <td>2.0</td>\n",
       "      <td>3.908087e+09</td>\n",
       "      <td>ID/CC Jackson is a 25 year old male admitte...</td>\n",
       "      <td>1.0</td>\n",
       "      <td>4320febf-91b7-11e4-9435-00155dfb8959</td>\n",
       "      <td>H3660100</td>\n",
       "      <td>1</td>\n",
       "      <td>HMC</td>\n",
       "      <td>2015-01-01 05:07:00</td>\n",
       "      <td>2015-01-01 17:20:00</td>\n",
       "      <td>2015</td>\n",
       "      <td>1</td>\n",
       "      <td>January-2015</td>\n",
       "      <td>2015</td>\n",
       "      <td>1</td>\n",
       "      <td>January-2015</td>\n",
       "      <td>ID/CC Jackson is a 25 year old male admitte...</td>\n",
       "      <td>12538</td>\n",
       "      <td>Case</td>\n",
       "      <td>Jackson, 25, year, old, male, admitted, overni...</td>\n",
       "    </tr>\n",
       "  </tbody>\n",
       "</table>\n",
       "</div>"
      ],
      "text/plain": [
       "   UPDT_CNT  CLINICAL_EVENT_ID  \\\n",
       "0       1.0       3.918091e+09   \n",
       "1       2.0       3.908087e+09   \n",
       "\n",
       "                                       BLOB_CONTENTS  BLOB_SEQ_NUM  \\\n",
       "0     ID/CC 25 yo male with no know prior history...           1.0   \n",
       "1     ID/CC Jackson is a 25 year old male admitte...           1.0   \n",
       "\n",
       "                                    EID     HMCID  cases FACILITY_CD  \\\n",
       "0  86e72698-9126-11e4-9435-00155dfb8959  H3679043      1         HMC   \n",
       "1  4320febf-91b7-11e4-9435-00155dfb8959  H3660100      1         HMC   \n",
       "\n",
       "           ADMIT_DTTM          EVENT_DTTM  event_year  event_month  \\\n",
       "0 2015-01-08 09:36:00 2015-01-08 15:20:00        2015            1   \n",
       "1 2015-01-01 05:07:00 2015-01-01 17:20:00        2015            1   \n",
       "\n",
       "    event_monyr  admit_year  admit_month   admit_monyr  \\\n",
       "0  January-2015        2015            1  January-2015   \n",
       "1  January-2015        2015            1  January-2015   \n",
       "\n",
       "                                         blob_string  length numCat  \\\n",
       "0     ID/CC 25 yo male with no know prior history...    7834   Case   \n",
       "1     ID/CC Jackson is a 25 year old male admitte...   12538   Case   \n",
       "\n",
       "                                             message  \n",
       "0  25, yo, male, know, prior, history, mandibular...  \n",
       "1  Jackson, 25, year, old, male, admitted, overni...  "
      ]
     },
     "execution_count": 42,
     "metadata": {},
     "output_type": "execute_result"
    }
   ],
   "source": [
    "df_combined_working.head(2)"
   ]
  },
  {
   "cell_type": "code",
   "execution_count": null,
   "metadata": {
    "collapsed": true
   },
   "outputs": [],
   "source": []
  },
  {
   "cell_type": "markdown",
   "metadata": {},
   "source": [
    "<div class=\"span5 alert alert-info\">\n",
    "<h3>IV. MODEL 1 DEVELOPEMENT-Single Words</h3>\n",
    "\n",
    "<ul>\n",
    "  <li> <b>Split into test and train:</b> 70% of data will be used as train\n",
    "  <li> <b>K fold cross-validation:</b> kfold=5\n",
    "  <li> <b>Find alpha and best_min_df</b> \n",
    "  <li> <b>Assess Model:</b> \n",
    "        <ul> <b>Accuracy</b>,</ul>\n",
    "        <ul> <b>Confusion Matrix</b>,</ul>\n",
    "        <ul> <b>Classification Report</b>,</ul>\n",
    "  <li> <b>Produce List of top 10 words</b>\n",
    "  <li> <b>Produce List of worse 10 words</b>\n",
    "  <li> <b>Assess the poorly predicted messages:</b> \n",
    "        <ul> <b>May have to print out message. Do not show due to HIPAA</b>,</ul>\n",
    "</ul>\n",
    "</div>"
   ]
  },
  {
   "cell_type": "code",
   "execution_count": 43,
   "metadata": {
    "collapsed": true
   },
   "outputs": [],
   "source": [
    "from sklearn.feature_extraction.text import CountVectorizer\n",
    "from sklearn.naive_bayes import MultinomialNB\n",
    "from sklearn.model_selection import train_test_split"
   ]
  },
  {
   "cell_type": "code",
   "execution_count": 44,
   "metadata": {
    "collapsed": false
   },
   "outputs": [],
   "source": [
    "_, itest = train_test_split(range(df_combined_working.shape[0]), train_size=0.7)\n",
    "mask = np.zeros(df_combined_working.shape[0], dtype=np.bool)\n",
    "mask[itest] = True"
   ]
  },
  {
   "cell_type": "code",
   "execution_count": 45,
   "metadata": {
    "collapsed": false
   },
   "outputs": [],
   "source": [
    "\n",
    "def make_xy(df_combined_working, vectorizer=None):\n",
    "      \n",
    "    if vectorizer is None:\n",
    "        vectorizer = CountVectorizer(ngram_range=(1,1))\n",
    "    X = vectorizer.fit_transform(df_combined_working.message)\n",
    "    X = X.tocsc()  # some versions of sklearn return COO format\n",
    "    y = (df_combined_working.numCat == 'Case').values.astype(np.int)\n",
    "    return X, y\n",
    "X, y = make_xy(df_combined_working)"
   ]
  },
  {
   "cell_type": "code",
   "execution_count": 46,
   "metadata": {
    "collapsed": false
   },
   "outputs": [
    {
     "name": "stderr",
     "output_type": "stream",
     "text": [
      "C:\\Users\\arao2\\Anaconda3\\lib\\site-packages\\sklearn\\cross_validation.py:44: DeprecationWarning: This module was deprecated in version 0.18 in favor of the model_selection module into which all the refactored classes and functions are moved. Also note that the interface of the new CV iterators are different from that of this module. This module will be removed in 0.20.\n",
      "  \"This module will be removed in 0.20.\", DeprecationWarning)\n"
     ]
    }
   ],
   "source": [
    "from sklearn.cross_validation import KFold\n",
    "def cv_score(clf, X, y, scorefunc):\n",
    "    result = 0.\n",
    "    nfold = 5\n",
    "    for train, test in KFold(y.size, nfold): # split data into train/test groups, 5 times\n",
    "        clf.fit(X[train], y[train]) # fit\n",
    "        result += scorefunc(clf, X[test], y[test]) # evaluate score function on held-out data\n",
    "    return result / nfold # average"
   ]
  },
  {
   "cell_type": "code",
   "execution_count": 47,
   "metadata": {
    "collapsed": true
   },
   "outputs": [],
   "source": [
    "def log_likelihood(clf, x, y):\n",
    "    prob = clf.predict_log_proba(x)\n",
    "    control = y == 0\n",
    "    case = ~control\n",
    "    return prob[control, 0].sum() + prob[case, 1].sum()"
   ]
  },
  {
   "cell_type": "code",
   "execution_count": 48,
   "metadata": {
    "collapsed": true
   },
   "outputs": [],
   "source": [
    "from sklearn.cross_validation import train_test_split\n",
    "itrain, itest = train_test_split(range(df_combined_working.shape[0]), train_size=0.7)\n",
    "mask=np.ones(df_combined_working.shape[0], dtype='int')\n",
    "mask[itrain]=1\n",
    "mask[itest]=0\n",
    "mask = (mask==1)"
   ]
  },
  {
   "cell_type": "code",
   "execution_count": 49,
   "metadata": {
    "collapsed": false
   },
   "outputs": [
    {
     "name": "stdout",
     "output_type": "stream",
     "text": [
      "alpha: 50.000000 \n",
      "min_df: 0.100000 \n"
     ]
    }
   ],
   "source": [
    "\n",
    "#the grid of parameters to search over\n",
    "alphas = [.1, 1, 5, 10, 50]\n",
    "min_dfs = [1e-5, 1e-4, 1e-3, 1e-2, 1e-1]\n",
    "\n",
    "#Find the best value for alpha and min_df, and the best classifier\n",
    "best_alpha = None\n",
    "best_min_df = None\n",
    "maxscore=-np.inf\n",
    "for alpha in alphas:\n",
    "    for min_df in min_dfs:         \n",
    "        vectorizer = CountVectorizer(min_df = min_df)       \n",
    "        Xthis, ythis = make_xy(df_combined_working, vectorizer)\n",
    "        Xtrainthis=Xthis[mask]\n",
    "        ytrainthis=ythis[mask]\n",
    "        \n",
    "        clf = MultinomialNB(alpha=alpha)\n",
    "        cvscore = cv_score(clf, Xtrainthis, ytrainthis, log_likelihood)\n",
    "\n",
    "        if cvscore > maxscore:\n",
    "            maxscore = cvscore\n",
    "            best_alpha, best_min_df = alpha, min_df\n",
    "            \n",
    "print (\"alpha: %f \" % best_alpha)\n",
    "print (\"min_df: %f \" % best_min_df)"
   ]
  },
  {
   "cell_type": "code",
   "execution_count": null,
   "metadata": {
    "collapsed": true
   },
   "outputs": [],
   "source": []
  },
  {
   "cell_type": "code",
   "execution_count": 50,
   "metadata": {
    "collapsed": false
   },
   "outputs": [
    {
     "name": "stdout",
     "output_type": "stream",
     "text": [
      "Accuracy on training data: 0.885280\n",
      "Accuracy on test data:     0.876045\n"
     ]
    }
   ],
   "source": [
    "#single words\n",
    "vectorizer = CountVectorizer(min_df=best_min_df,ngram_range=(1,1))\n",
    "X, y = make_xy(df_combined_working, vectorizer)\n",
    "xtrain=X[mask]\n",
    "ytrain=y[mask]\n",
    "xtest=X[~mask]\n",
    "ytest=y[~mask]\n",
    "\n",
    "clf = MultinomialNB(alpha=alpha).fit(xtrain, ytrain)\n",
    "\n",
    "#Print the accuracy on the test and training dataset\n",
    "training_accuracy = clf.score(xtrain, ytrain)\n",
    "test_accuracy = clf.score(xtest, ytest)\n",
    "\n",
    "print(\"Accuracy on training data: {:2f}\".format(training_accuracy))\n",
    "print(\"Accuracy on test data:     {:2f}\".format(test_accuracy))"
   ]
  },
  {
   "cell_type": "code",
   "execution_count": 103,
   "metadata": {
    "collapsed": false
   },
   "outputs": [
    {
     "name": "stdout",
     "output_type": "stream",
     "text": [
      "             precision    recall  f1-score   support\n",
      "\n",
      "          0       1.00      0.77      0.87      2754\n",
      "          1       0.76      1.00      0.86      1988\n",
      "\n",
      "avg / total       0.90      0.87      0.87      4742\n",
      "\n"
     ]
    }
   ],
   "source": [
    "print (classification_report(ytrain,clf.predict(xtrain))) #confusion matrix for training data"
   ]
  },
  {
   "cell_type": "code",
   "execution_count": 51,
   "metadata": {
    "collapsed": false
   },
   "outputs": [
    {
     "name": "stdout",
     "output_type": "stream",
     "text": [
      "             precision    recall  f1-score   support\n",
      "\n",
      "          0       0.99      0.80      0.88      1207\n",
      "          1       0.77      0.99      0.87       826\n",
      "\n",
      "avg / total       0.90      0.88      0.88      2033\n",
      "\n"
     ]
    }
   ],
   "source": [
    "from sklearn.metrics import classification_report\n",
    "print (classification_report(ytest,clf.predict(xtest)))#confusion matrix for test data"
   ]
  },
  {
   "cell_type": "code",
   "execution_count": 52,
   "metadata": {
    "collapsed": false
   },
   "outputs": [
    {
     "name": "stdout",
     "output_type": "stream",
     "text": [
      "[[961 246]\n",
      " [  6 820]]\n"
     ]
    }
   ],
   "source": [
    "from sklearn.metrics import confusion_matrix\n",
    "print(confusion_matrix(ytest, clf.predict(xtest)))"
   ]
  },
  {
   "cell_type": "code",
   "execution_count": 53,
   "metadata": {
    "collapsed": false
   },
   "outputs": [
    {
     "name": "stdout",
     "output_type": "stream",
     "text": [
      "Good words\t     P(PsychConsult | word)\n",
      "            delirium 0.95\n",
      "              sitter 0.94\n",
      "             consult 0.91\n",
      "                page 0.87\n",
      "           interview 0.87\n",
      "              safety 0.85\n",
      "          restraints 0.84\n",
      "                 ama 0.84\n",
      "            maintain 0.83\n",
      "             attempt 0.82\n",
      "         involuntary 0.81\n",
      "           agitation 0.81\n",
      "                 avh 0.81\n",
      "           obtaining 0.81\n",
      "               range 0.80\n",
      "          collateral 0.80\n",
      "               leave 0.80\n",
      "            foundprn 0.79\n",
      "          frequently 0.79\n",
      "          depressive 0.79\n",
      "           attentive 0.79\n",
      "           judgement 0.79\n",
      "                 1mg 0.78\n",
      "           attention 0.78\n",
      "           consulted 0.77\n",
      "     recommendations 0.77\n",
      "                 ita 0.76\n",
      "           stressors 0.76\n",
      "                 saw 0.76\n",
      "         unspecified 0.75\n",
      "              assess 0.75\n",
      "            continue 0.74\n",
      "               psych 0.74\n",
      "           delusions 0.74\n",
      "              linear 0.73\n",
      "                team 0.73\n",
      "            attempts 0.73\n",
      "                 inj 0.73\n",
      "                 tab 0.73\n",
      "             request 0.73\n",
      "              though 0.73\n",
      "                harm 0.73\n",
      "            ideation 0.73\n",
      "             context 0.73\n",
      "                  ro 0.73\n",
      "               100mg 0.72\n",
      "            hospital 0.72\n",
      "                 5mg 0.72\n",
      "                soln 0.72\n",
      "            admitted 0.71\n",
      "Bad words\t     P(PsychConsult | word)\n",
      "         noninvasive 0.06\n",
      "     anticoagulation 0.06\n",
      "                 dbp 0.06\n",
      "             studies 0.06\n",
      "               spine 0.06\n",
      "                 sbp 0.06\n",
      "               brmin 0.06\n",
      "            delivery 0.06\n",
      "               final 0.06\n",
      "          physicians 0.06\n",
      "        participated 0.06\n",
      "        instructions 0.06\n",
      "                 bpm 0.06\n",
      "            strength 0.06\n",
      "            accuracy 0.06\n",
      "                 bmi 0.06\n",
      "                 ent 0.06\n",
      "         bilaterally 0.05\n",
      "            products 0.05\n",
      "           symmetric 0.05\n",
      "               vital 0.05\n",
      "              device 0.05\n",
      "               moist 0.05\n",
      "                  gu 0.05\n",
      "        auscultation 0.05\n",
      "          objections 0.05\n",
      "           membranes 0.05\n",
      "           nontender 0.04\n",
      "         supervising 0.04\n",
      "               index 0.04\n",
      "     dispositionplan 0.04\n",
      "            oncology 0.04\n",
      "            proposed 0.04\n",
      " impressiondiagnosis 0.04\n",
      "          neuropsych 0.04\n",
      "       inpersonphone 0.04\n",
      "                 6cm 0.04\n",
      "         thyromental 0.04\n",
      "           radiology 0.04\n",
      "          immunology 0.04\n",
      "           malampati 0.03\n",
      "        antiplatelet 0.03\n",
      "               apnea 0.03\n",
      "         anesthetics 0.03\n",
      "summaryrecommendations 0.03\n",
      "                spo2 0.03\n",
      "       preanesthesia 0.03\n",
      "          anesthesia 0.02\n",
      "                ponv 0.02\n",
      "          anesthetic 0.02\n"
     ]
    }
   ],
   "source": [
    "words = np.array(vectorizer.get_feature_names())\n",
    "\n",
    "x = np.eye(xtest.shape[1])\n",
    "probs = clf.predict_log_proba(x)[:, 0]\n",
    "ind = np.argsort(probs)\n",
    "\n",
    "good_words = words[ind[:50]]\n",
    "bad_words = words[ind[-50:]]\n",
    "\n",
    "good_prob = probs[ind[:50]]\n",
    "bad_prob = probs[ind[-50:]]\n",
    "\n",
    "print(\"Good words\\t     P(PsychConsult | word)\")\n",
    "for w, p in zip(good_words, good_prob):\n",
    "    print(\"{:>20}\".format(w), \"{:.2f}\".format(1 - np.exp(p)))\n",
    "    \n",
    "print(\"Bad words\\t     P(PsychConsult | word)\")\n",
    "for w, p in zip(bad_words, bad_prob):\n",
    "    print(\"{:>20}\".format(w), \"{:.2f}\".format(1 - np.exp(p)))"
   ]
  },
  {
   "cell_type": "code",
   "execution_count": 113,
   "metadata": {
    "collapsed": false
   },
   "outputs": [],
   "source": [
    "#Commented this out due to sensitive PHI\n",
    "#x, y = make_xy(df_combined_working, vectorizer)\n",
    "\n",
    "#prob = clf.predict_proba(x)[:, 0]\n",
    "#predict = clf.predict(x)\n",
    "\n",
    "#bad_control = np.argsort(prob[y == 0])[:5]\n",
    "#bad_case = np.argsort(prob[y == 1])[-5:]\n",
    "\n",
    "#print(\"Mis-predicted control quotes\")\n",
    "#print('---------------------------')\n",
    "#for row in bad_control:\n",
    "#    print(df_combined_working[y == 0].blob_string.iloc[row])\n",
    "#    print(\"\")\n",
    "\n",
    "#print(\"Mis-predicted case quotes\")\n",
    "#print('--------------------------')\n",
    "#for row in bad_case:\n",
    "#    print(df_combined_working[y == 1].blob_string.iloc[row])\n",
    "#    print(\"\")"
   ]
  },
  {
   "cell_type": "code",
   "execution_count": 56,
   "metadata": {
    "collapsed": false
   },
   "outputs": [
    {
     "data": {
      "text/plain": [
       "array([[ 0.42826079,  0.57173921]])"
      ]
     },
     "execution_count": 56,
     "metadata": {},
     "output_type": "execute_result"
    }
   ],
   "source": [
    "clf.predict_proba(vectorizer.transform(['abuse']))"
   ]
  },
  {
   "cell_type": "code",
   "execution_count": null,
   "metadata": {
    "collapsed": true
   },
   "outputs": [],
   "source": []
  },
  {
   "cell_type": "markdown",
   "metadata": {},
   "source": [
    "<div class=\"span5 alert alert-info\">\n",
    "<h3>V. MODEL 2 DEVELOPEMENT: Tri-grams</h3>\n",
    "\n",
    "<ul>\n",
    "  <li> <b>same as above, but specifiy using trigram:</b> i.e. use ngram_range=(3,3)\n",
    "</ul>\n",
    "</div>"
   ]
  },
  {
   "cell_type": "code",
   "execution_count": 104,
   "metadata": {
    "collapsed": true
   },
   "outputs": [],
   "source": [
    "def make_xy(df_combined_working, vectorizer=None):\n",
    "        \n",
    "    if vectorizer is None:\n",
    "        vectorizer = CountVectorizer(ngram_range=(3,3))\n",
    "    X = vectorizer.fit_transform(df_combined_working.message)\n",
    "    X = X.tocsc()  # some versions of sklearn return COO format\n",
    "    y = (df_combined_working.numCat == 'Case').values.astype(np.int)\n",
    "    return X, y\n",
    "X, y = make_xy(df_combined_working)"
   ]
  },
  {
   "cell_type": "code",
   "execution_count": 105,
   "metadata": {
    "collapsed": true
   },
   "outputs": [],
   "source": [
    "from sklearn.cross_validation import KFold\n",
    "def cv_score(clf, X, y, scorefunc):\n",
    "    result = 0.\n",
    "    nfold = 5\n",
    "    for train, test in KFold(y.size, nfold): # split data into train/test groups, 5 times\n",
    "        clf.fit(X[train], y[train]) # fit\n",
    "        result += scorefunc(clf, X[test], y[test]) # evaluate score function on held-out data\n",
    "    return result / nfold # average"
   ]
  },
  {
   "cell_type": "code",
   "execution_count": 106,
   "metadata": {
    "collapsed": true
   },
   "outputs": [],
   "source": [
    "def log_likelihood(clf, x, y):\n",
    "    prob = clf.predict_log_proba(x)\n",
    "    control = y == 0\n",
    "    case = ~control\n",
    "    return prob[control, 0].sum() + prob[case, 1].sum()"
   ]
  },
  {
   "cell_type": "code",
   "execution_count": 107,
   "metadata": {
    "collapsed": true
   },
   "outputs": [],
   "source": [
    "from sklearn.cross_validation import train_test_split\n",
    "itrain, itest = train_test_split(range(df_combined_working.shape[0]), train_size=0.7)\n",
    "mask=np.ones(df_combined_working.shape[0], dtype='int')\n",
    "mask[itrain]=1\n",
    "mask[itest]=0\n",
    "mask = (mask==1)"
   ]
  },
  {
   "cell_type": "code",
   "execution_count": 108,
   "metadata": {
    "collapsed": false
   },
   "outputs": [
    {
     "name": "stdout",
     "output_type": "stream",
     "text": [
      "alpha: 50.000000 \n",
      "min_df: 0.100000 \n"
     ]
    }
   ],
   "source": [
    "#the grid of parameters to search over\n",
    "alphas = [.1, 1, 5, 10, 50]\n",
    "min_dfs = [1e-5, 1e-4, 1e-3, 1e-2, 1e-1]\n",
    "\n",
    "#Find the best value for alpha and min_df, and the best classifier\n",
    "best_alpha = None\n",
    "best_min_df = None\n",
    "maxscore=-np.inf\n",
    "for alpha in alphas:\n",
    "    for min_df in min_dfs:         \n",
    "        vectorizer = CountVectorizer(min_df = min_df)       \n",
    "        Xthis, ythis = make_xy(df_combined_working, vectorizer)\n",
    "        Xtrainthis=Xthis[mask]\n",
    "        ytrainthis=ythis[mask]\n",
    "        \n",
    "        clf = MultinomialNB(alpha=alpha)\n",
    "        cvscore = cv_score(clf, Xtrainthis, ytrainthis, log_likelihood)\n",
    "\n",
    "        if cvscore > maxscore:\n",
    "            maxscore = cvscore\n",
    "            best_alpha, best_min_df = alpha, min_df\n",
    "            \n",
    "print (\"alpha: %f \" % best_alpha)\n",
    "print (\"min_df: %f \" % best_min_df)"
   ]
  },
  {
   "cell_type": "code",
   "execution_count": null,
   "metadata": {
    "collapsed": true
   },
   "outputs": [],
   "source": []
  },
  {
   "cell_type": "code",
   "execution_count": 111,
   "metadata": {
    "collapsed": false
   },
   "outputs": [
    {
     "name": "stdout",
     "output_type": "stream",
     "text": [
      "Accuracy on training data: 0.902362\n",
      "Accuracy on test data:     0.905558\n"
     ]
    }
   ],
   "source": [
    "#three words (tri-gram)\n",
    "vectorizer = CountVectorizer(min_df=best_min_df,ngram_range=(3,3))\n",
    "X, y = make_xy(df_combined_working, vectorizer)\n",
    "xtrain=X[mask]\n",
    "ytrain=y[mask]\n",
    "xtest=X[~mask]\n",
    "ytest=y[~mask]\n",
    "\n",
    "clf = MultinomialNB(alpha=alpha).fit(xtrain, ytrain)\n",
    "\n",
    "#Print the accuracy on the test and training dataset\n",
    "training_accuracy = clf.score(xtrain, ytrain)\n",
    "test_accuracy = clf.score(xtest, ytest)\n",
    "\n",
    "print(\"Accuracy on training data: {:2f}\".format(training_accuracy))\n",
    "print(\"Accuracy on test data:     {:2f}\".format(test_accuracy))"
   ]
  },
  {
   "cell_type": "code",
   "execution_count": 110,
   "metadata": {
    "collapsed": false
   },
   "outputs": [
    {
     "name": "stdout",
     "output_type": "stream",
     "text": [
      "             precision    recall  f1-score   support\n",
      "\n",
      "          0       0.99      0.84      0.91      2740\n",
      "          1       0.82      0.99      0.90      2002\n",
      "\n",
      "avg / total       0.92      0.90      0.90      4742\n",
      "\n"
     ]
    }
   ],
   "source": [
    "from sklearn.metrics import classification_report\n",
    "print (classification_report(ytrain,clf.predict(xtrain)))#confusion matrix for training data"
   ]
  },
  {
   "cell_type": "code",
   "execution_count": 63,
   "metadata": {
    "collapsed": false
   },
   "outputs": [
    {
     "name": "stdout",
     "output_type": "stream",
     "text": [
      "             precision    recall  f1-score   support\n",
      "\n",
      "          0       0.99      0.84      0.91      1173\n",
      "          1       0.82      0.99      0.90       860\n",
      "\n",
      "avg / total       0.92      0.91      0.91      2033\n",
      "\n"
     ]
    }
   ],
   "source": [
    "from sklearn.metrics import classification_report\n",
    "print (classification_report(ytest,clf.predict(xtest)))#confusion matrix for test data"
   ]
  },
  {
   "cell_type": "code",
   "execution_count": 64,
   "metadata": {
    "collapsed": false
   },
   "outputs": [
    {
     "name": "stdout",
     "output_type": "stream",
     "text": [
      "[[989 184]\n",
      " [  5 855]]\n"
     ]
    }
   ],
   "source": [
    "from sklearn.metrics import confusion_matrix\n",
    "print(confusion_matrix(ytest, clf.predict(xtest)))"
   ]
  },
  {
   "cell_type": "code",
   "execution_count": 65,
   "metadata": {
    "collapsed": false
   },
   "outputs": [
    {
     "name": "stdout",
     "output_type": "stream",
     "text": [
      "Good words\t     P(PsychConsult | word)\n",
      "time consult request 0.96\n",
      "consult request evaluation 0.96\n",
      "prn past psychiatric 0.95\n",
      "ita involuntary treatment 0.94\n",
      "hours history present 0.94\n",
      "consult hours history 0.94\n",
      "request evaluation evaluated 0.94\n",
      "evaluation evaluated within 0.94\n",
      "involuntary treatment assessment 0.93\n",
      "emergency department ita 0.92\n",
      "department ita involuntary 0.92\n",
      "request evaluation consult 0.92\n",
      "evaluation consult requested 0.92\n",
      "physical examination appearance 0.91\n",
      "   consult hours yes 0.91\n",
      "allergies nka medications 0.90\n",
      "   hours yes history 0.90\n",
      " yes history present 0.90\n",
      "difficulty obtaining history 0.90\n",
      "treatment assessment referred 0.90\n",
      "denies symptoms allergies 0.90\n",
      "physical examination mental 0.90\n",
      "examination mental status 0.90\n",
      "nka medications scheduled 0.90\n",
      "    90 consult hours 0.89\n",
      "visit information admitted 0.89\n",
      " evaluated within 90 0.89\n",
      "   within 90 consult 0.88\n",
      "status examination appearance 0.88\n",
      " medical record time 0.88\n",
      " record time consult 0.88\n",
      "evaluated within consult 0.88\n",
      "within consult hours 0.88\n",
      "      hours prn past 0.87\n",
      "mental status examination 0.87\n",
      "attending statement saw 0.85\n",
      "review results todayresults 0.84\n",
      "  ml subcutaneous q8 0.84\n",
      "       dose units ml 0.84\n",
      "units ml subcutaneous 0.84\n",
      "po infusion medications 0.84\n",
      "      inj dose units 0.84\n",
      "infusion medications foundprn 0.83\n",
      "past psychiatric history 0.83\n",
      "statement saw evaluated 0.82\n",
      "        1mg tab dose 0.82\n",
      "    per chart review 0.82\n",
      "medications foundprn medicationsacetaminophen 0.81\n",
      "         tab dose mg 0.81\n",
      "         dose mg tab 0.81\n",
      "Bad words\t     P(PsychConsult | word)\n",
      "problems social behaviors 0.04\n",
      "history problems social 0.04\n",
      " review systems eyes 0.04\n",
      "discussed history physical 0.04\n",
      "evaluated discussed history 0.04\n",
      "summaryrecommendations anesthesia problem 0.04\n",
      "directly note provided 0.04\n",
      "provided additional comments 0.04\n",
      " added directly note 0.04\n",
      "anesthetic options discussed 0.04\n",
      "anesthesia problem list 0.04\n",
      "agree documentation necessary 0.04\n",
      "anesthesia history problems 0.04\n",
      "note provided additional 0.04\n",
      "either clarification accuracy 0.04\n",
      "clarification accuracy added 0.04\n",
      "necessary either clarification 0.04\n",
      "accuracy added directly 0.04\n",
      "documentation necessary either 0.04\n",
      "history evaluated discussed 0.04\n",
      "care personally obtained 0.04\n",
      "department care personally 0.04\n",
      "obtained history evaluated 0.04\n",
      "personally obtained history 0.04\n",
      "attending involved patients 0.04\n",
      "emergency department care 0.04\n",
      "supervising attending involved 0.04\n",
      "involved patients emergency 0.04\n",
      "airway exam malampati 0.04\n",
      "  o2 delivery device 0.04\n",
      "patients emergency department 0.04\n",
      "anticoagulation antiplatelet therapy 0.04\n",
      "   type visit person 0.04\n",
      "diagnostic studies treatment 0.04\n",
      "exam diagnostic studies 0.04\n",
      "studies treatment plan 0.04\n",
      "physical exam diagnostic 0.04\n",
      "previous surgeries yes 0.04\n",
      "history physical exam 0.04\n",
      "previous anesthetic difficulties 0.04\n",
      "family anesthesia history 0.04\n",
      "social behaviors alcohol 0.04\n",
      "behaviors alcohol use 0.04\n",
      "course medical decision 0.04\n",
      "history previous surgeries 0.04\n",
      "physical examination vital 0.04\n",
      "examination vital signs 0.04\n",
      "surgical history previous 0.04\n",
      "visit information date 0.03\n",
      "   ponv risk factors 0.03\n"
     ]
    }
   ],
   "source": [
    "words = np.array(vectorizer.get_feature_names())\n",
    "\n",
    "x = np.eye(xtest.shape[1])\n",
    "probs = clf.predict_log_proba(x)[:, 0]\n",
    "ind = np.argsort(probs)\n",
    "\n",
    "good_words = words[ind[:50]]\n",
    "bad_words = words[ind[-50:]]\n",
    "\n",
    "good_prob = probs[ind[:50]]\n",
    "bad_prob = probs[ind[-50:]]\n",
    "\n",
    "print(\"Good words\\t     P(PsychConsult | word)\")\n",
    "for w, p in zip(good_words, good_prob):\n",
    "    print(\"{:>20}\".format(w), \"{:.2f}\".format(1 - np.exp(p)))\n",
    "    \n",
    "print(\"Bad words\\t     P(PsychConsult | word)\")\n",
    "for w, p in zip(bad_words, bad_prob):\n",
    "    print(\"{:>20}\".format(w), \"{:.2f}\".format(1 - np.exp(p)))"
   ]
  },
  {
   "cell_type": "code",
   "execution_count": null,
   "metadata": {
    "collapsed": true
   },
   "outputs": [],
   "source": []
  },
  {
   "cell_type": "markdown",
   "metadata": {},
   "source": [
    "# ASSESSING THE SELECTED a priori LIST"
   ]
  },
  {
   "cell_type": "code",
   "execution_count": 66,
   "metadata": {
    "collapsed": false
   },
   "outputs": [
    {
     "data": {
      "text/plain": [
       "array([[ 0.5797132,  0.4202868]])"
      ]
     },
     "execution_count": 66,
     "metadata": {},
     "output_type": "execute_result"
    }
   ],
   "source": [
    "clf.predict_proba(vectorizer.transform(['suicide attempt']))"
   ]
  },
  {
   "cell_type": "code",
   "execution_count": 67,
   "metadata": {
    "collapsed": false
   },
   "outputs": [
    {
     "data": {
      "text/plain": [
       "array([[ 0.5797132,  0.4202868]])"
      ]
     },
     "execution_count": 67,
     "metadata": {},
     "output_type": "execute_result"
    }
   ],
   "source": [
    "clf.predict_proba(vectorizer.transform(['verbal abuse']))"
   ]
  },
  {
   "cell_type": "code",
   "execution_count": 68,
   "metadata": {
    "collapsed": false
   },
   "outputs": [
    {
     "data": {
      "text/plain": [
       "array([[ 0.5797132,  0.4202868]])"
      ]
     },
     "execution_count": 68,
     "metadata": {},
     "output_type": "execute_result"
    }
   ],
   "source": [
    "clf.predict_proba(vectorizer.transform(['physical abuse']))"
   ]
  },
  {
   "cell_type": "code",
   "execution_count": 69,
   "metadata": {
    "collapsed": false
   },
   "outputs": [
    {
     "data": {
      "text/plain": [
       "array([[ 0.5797132,  0.4202868]])"
      ]
     },
     "execution_count": 69,
     "metadata": {},
     "output_type": "execute_result"
    }
   ],
   "source": [
    "clf.predict_proba(vectorizer.transform(['sexual abuse']))"
   ]
  },
  {
   "cell_type": "code",
   "execution_count": 70,
   "metadata": {
    "collapsed": false
   },
   "outputs": [
    {
     "data": {
      "text/plain": [
       "array([[ 0.5797132,  0.4202868]])"
      ]
     },
     "execution_count": 70,
     "metadata": {},
     "output_type": "execute_result"
    }
   ],
   "source": [
    "clf.predict_proba(vectorizer.transform(['witness to']))"
   ]
  },
  {
   "cell_type": "code",
   "execution_count": 71,
   "metadata": {
    "collapsed": false
   },
   "outputs": [
    {
     "data": {
      "text/plain": [
       "array([[ 0.5797132,  0.4202868]])"
      ]
     },
     "execution_count": 71,
     "metadata": {},
     "output_type": "execute_result"
    }
   ],
   "source": [
    "clf.predict_proba(vectorizer.transform(['parents separated']))"
   ]
  },
  {
   "cell_type": "code",
   "execution_count": 72,
   "metadata": {
    "collapsed": false
   },
   "outputs": [
    {
     "data": {
      "text/plain": [
       "array([[ 0.5797132,  0.4202868]])"
      ]
     },
     "execution_count": 72,
     "metadata": {},
     "output_type": "execute_result"
    }
   ],
   "source": [
    "clf.predict_proba(vectorizer.transform(['firearm related']))"
   ]
  },
  {
   "cell_type": "code",
   "execution_count": 73,
   "metadata": {
    "collapsed": false
   },
   "outputs": [
    {
     "data": {
      "text/plain": [
       "array([[ 0.5797132,  0.4202868]])"
      ]
     },
     "execution_count": 73,
     "metadata": {},
     "output_type": "execute_result"
    }
   ],
   "source": [
    "clf.predict_proba(vectorizer.transform(['overdose related']))"
   ]
  },
  {
   "cell_type": "code",
   "execution_count": 74,
   "metadata": {
    "collapsed": false
   },
   "outputs": [
    {
     "data": {
      "text/plain": [
       "array([[ 0.5797132,  0.4202868]])"
      ]
     },
     "execution_count": 74,
     "metadata": {},
     "output_type": "execute_result"
    }
   ],
   "source": [
    "clf.predict_proba(vectorizer.transform(['abuse']))"
   ]
  },
  {
   "cell_type": "code",
   "execution_count": null,
   "metadata": {
    "collapsed": true
   },
   "outputs": [],
   "source": []
  },
  {
   "cell_type": "code",
   "execution_count": null,
   "metadata": {
    "collapsed": true
   },
   "outputs": [],
   "source": []
  },
  {
   "cell_type": "code",
   "execution_count": 75,
   "metadata": {
    "collapsed": false
   },
   "outputs": [
    {
     "data": {
      "text/plain": [
       "array([[ 0.5797132,  0.4202868]])"
      ]
     },
     "execution_count": 75,
     "metadata": {},
     "output_type": "execute_result"
    }
   ],
   "source": [
    "clf.predict_proba(vectorizer.transform(['family mental illness']))"
   ]
  },
  {
   "cell_type": "code",
   "execution_count": 76,
   "metadata": {
    "collapsed": false
   },
   "outputs": [
    {
     "data": {
      "text/plain": [
       "array([[ 0.5797132,  0.4202868]])"
      ]
     },
     "execution_count": 76,
     "metadata": {},
     "output_type": "execute_result"
    }
   ],
   "source": [
    "clf.predict_proba(vectorizer.transform(['substance use disorder']))"
   ]
  },
  {
   "cell_type": "code",
   "execution_count": 77,
   "metadata": {
    "collapsed": false
   },
   "outputs": [
    {
     "data": {
      "text/plain": [
       "array([[ 0.5797132,  0.4202868]])"
      ]
     },
     "execution_count": 77,
     "metadata": {},
     "output_type": "execute_result"
    }
   ],
   "source": [
    "clf.predict_proba(vectorizer.transform(['loss of consciousness']))"
   ]
  },
  {
   "cell_type": "code",
   "execution_count": 78,
   "metadata": {
    "collapsed": false
   },
   "outputs": [
    {
     "data": {
      "text/plain": [
       "array([[ 0.5797132,  0.4202868]])"
      ]
     },
     "execution_count": 78,
     "metadata": {},
     "output_type": "execute_result"
    }
   ],
   "source": [
    "clf.predict_proba(vectorizer.transform(['out of control behavior']))"
   ]
  },
  {
   "cell_type": "code",
   "execution_count": 79,
   "metadata": {
    "collapsed": false
   },
   "outputs": [
    {
     "data": {
      "text/plain": [
       "array([0, 1])"
      ]
     },
     "execution_count": 79,
     "metadata": {},
     "output_type": "execute_result"
    }
   ],
   "source": [
    "clf.classes_"
   ]
  },
  {
   "cell_type": "code",
   "execution_count": null,
   "metadata": {
    "collapsed": true
   },
   "outputs": [],
   "source": []
  },
  {
   "cell_type": "code",
   "execution_count": null,
   "metadata": {
    "collapsed": true
   },
   "outputs": [],
   "source": []
  },
  {
   "cell_type": "markdown",
   "metadata": {},
   "source": [
    "<div class=\"span5 alert alert-info\">\n",
    "<h3>VI. MODEL 3 DEVELOPEMENT: N-grams</h3>\n",
    "\n",
    "<ul>\n",
    "  <li> <b>same as above, but specifiy using wide range:</b> i.e. use ngram_range=(1,4)\n",
    "</ul>\n",
    "</div>"
   ]
  },
  {
   "cell_type": "code",
   "execution_count": 114,
   "metadata": {
    "collapsed": true
   },
   "outputs": [],
   "source": [
    "def make_xy(df_combined_working, vectorizer=None):\n",
    "       \n",
    "    if vectorizer is None:\n",
    "        vectorizer = CountVectorizer(ngram_range=(1,4))\n",
    "    X = vectorizer.fit_transform(df_combined_working.message)\n",
    "    X = X.tocsc()  # some versions of sklearn return COO format\n",
    "    y = (df_combined_working.numCat == 'Case').values.astype(np.int)\n",
    "    return X, y\n",
    "X, y = make_xy(df_combined_working)"
   ]
  },
  {
   "cell_type": "code",
   "execution_count": 115,
   "metadata": {
    "collapsed": true
   },
   "outputs": [],
   "source": [
    "from sklearn.cross_validation import KFold\n",
    "def cv_score(clf, X, y, scorefunc):\n",
    "    result = 0.\n",
    "    nfold = 5\n",
    "    for train, test in KFold(y.size, nfold): # split data into train/test groups, 5 times\n",
    "        clf.fit(X[train], y[train]) # fit\n",
    "        result += scorefunc(clf, X[test], y[test]) # evaluate score function on held-out data\n",
    "    return result / nfold # average"
   ]
  },
  {
   "cell_type": "code",
   "execution_count": 116,
   "metadata": {
    "collapsed": true
   },
   "outputs": [],
   "source": [
    "def log_likelihood(clf, x, y):\n",
    "    prob = clf.predict_log_proba(x)\n",
    "    control = y == 0\n",
    "    case = ~control\n",
    "    return prob[control, 0].sum() + prob[case, 1].sum()"
   ]
  },
  {
   "cell_type": "code",
   "execution_count": 117,
   "metadata": {
    "collapsed": true
   },
   "outputs": [],
   "source": [
    "from sklearn.cross_validation import train_test_split\n",
    "itrain, itest = train_test_split(range(df_combined_working.shape[0]), train_size=0.7)\n",
    "mask=np.ones(df_combined_working.shape[0], dtype='int')\n",
    "mask[itrain]=1\n",
    "mask[itest]=0\n",
    "mask = (mask==1)"
   ]
  },
  {
   "cell_type": "code",
   "execution_count": 119,
   "metadata": {
    "collapsed": false
   },
   "outputs": [
    {
     "name": "stdout",
     "output_type": "stream",
     "text": [
      "alpha: 50.000000 \n",
      "min_df: 0.100000 \n"
     ]
    }
   ],
   "source": [
    "#the grid of parameters to search over\n",
    "alphas = [.1, 1, 5, 10, 50]\n",
    "min_dfs = [1e-5, 1e-4, 1e-3, 1e-2, 1e-1]\n",
    "\n",
    "#Find the best value for alpha and min_df, and the best classifier\n",
    "best_alpha = None\n",
    "best_min_df = None\n",
    "maxscore=-np.inf\n",
    "for alpha in alphas:\n",
    "    for min_df in min_dfs:         \n",
    "        vectorizer = CountVectorizer(min_df = min_df)       \n",
    "        Xthis, ythis = make_xy(df_combined_working, vectorizer)\n",
    "        Xtrainthis=Xthis[mask]\n",
    "        ytrainthis=ythis[mask]\n",
    "       \n",
    "        clf = MultinomialNB(alpha=alpha)\n",
    "        cvscore = cv_score(clf, Xtrainthis, ytrainthis, log_likelihood)\n",
    "\n",
    "        if cvscore > maxscore:\n",
    "            maxscore = cvscore\n",
    "            best_alpha, best_min_df = alpha, min_df\n",
    "            \n",
    "print (\"alpha: %f \" % best_alpha)\n",
    "print (\"min_df: %f \" % best_min_df)"
   ]
  },
  {
   "cell_type": "code",
   "execution_count": null,
   "metadata": {
    "collapsed": true
   },
   "outputs": [],
   "source": []
  },
  {
   "cell_type": "code",
   "execution_count": 122,
   "metadata": {
    "collapsed": false
   },
   "outputs": [
    {
     "name": "stdout",
     "output_type": "stream",
     "text": [
      "Accuracy on training data: 0.864825\n",
      "Accuracy on test data:     0.861289\n"
     ]
    }
   ],
   "source": [
    "#4-gram as range\n",
    "vectorizer = CountVectorizer(min_df=best_min_df,ngram_range=(1,4))\n",
    "X, y = make_xy(df_combined_working, vectorizer)\n",
    "xtrain=X[mask]\n",
    "ytrain=y[mask]\n",
    "xtest=X[~mask]\n",
    "ytest=y[~mask]\n",
    "\n",
    "clf = MultinomialNB(alpha=alpha).fit(xtrain, ytrain)\n",
    "\n",
    "#Print the accuracy on the test and training dataset\n",
    "training_accuracy = clf.score(xtrain, ytrain)\n",
    "test_accuracy = clf.score(xtest, ytest)\n",
    "\n",
    "print(\"Accuracy on training data: {:2f}\".format(training_accuracy))\n",
    "print(\"Accuracy on test data:     {:2f}\".format(test_accuracy))"
   ]
  },
  {
   "cell_type": "code",
   "execution_count": 121,
   "metadata": {
    "collapsed": false
   },
   "outputs": [
    {
     "name": "stdout",
     "output_type": "stream",
     "text": [
      "             precision    recall  f1-score   support\n",
      "\n",
      "          0       1.00      0.76      0.86      1177\n",
      "          1       0.75      1.00      0.86       856\n",
      "\n",
      "avg / total       0.90      0.86      0.86      2033\n",
      "\n"
     ]
    }
   ],
   "source": [
    "from sklearn.metrics import classification_report\n",
    "print (classification_report(ytrain,clf.predict(xtrain)))#confusion matrix for training data"
   ]
  },
  {
   "cell_type": "code",
   "execution_count": 86,
   "metadata": {
    "collapsed": false
   },
   "outputs": [
    {
     "name": "stdout",
     "output_type": "stream",
     "text": [
      "             precision    recall  f1-score   support\n",
      "\n",
      "          0       0.99      0.76      0.86      1168\n",
      "          1       0.76      0.99      0.86       865\n",
      "\n",
      "avg / total       0.89      0.86      0.86      2033\n",
      "\n"
     ]
    }
   ],
   "source": [
    "from sklearn.metrics import classification_report\n",
    "print (classification_report(ytest,clf.predict(xtest)))#confusion matrix for test data"
   ]
  },
  {
   "cell_type": "code",
   "execution_count": 87,
   "metadata": {
    "collapsed": false
   },
   "outputs": [
    {
     "name": "stdout",
     "output_type": "stream",
     "text": [
      "[[893 275]\n",
      " [  6 859]]\n"
     ]
    }
   ],
   "source": [
    "from sklearn.metrics import confusion_matrix\n",
    "print(confusion_matrix(ytest, clf.predict(xtest)))"
   ]
  },
  {
   "cell_type": "code",
   "execution_count": 88,
   "metadata": {
    "collapsed": false
   },
   "outputs": [
    {
     "name": "stdout",
     "output_type": "stream",
     "text": [
      "Good words\t     P(PsychConsult | word)\n",
      "        time consult 0.96\n",
      "  request evaluation 0.96\n",
      "time consult request 0.96\n",
      "consult request evaluation 0.96\n",
      "time consult request evaluation 0.96\n",
      "       consult hours 0.96\n",
      "    evaluated within 0.95\n",
      "     consult request 0.95\n",
      "            delirium 0.95\n",
      "              sitter 0.94\n",
      "            prn past 0.94\n",
      "prn past psychiatric 0.94\n",
      "prn past psychiatric history 0.94\n",
      "examination appearance 0.93\n",
      "       hours history 0.93\n",
      "hours history present illness 0.93\n",
      "hours history present 0.93\n",
      "consult hours history 0.93\n",
      "consult hours history present 0.93\n",
      "     ita involuntary 0.93\n",
      "evaluation evaluated 0.93\n",
      "ita involuntary treatment 0.93\n",
      "ita involuntary treatment assessment 0.93\n",
      "evaluation evaluated within 0.93\n",
      "request evaluation evaluated within 0.93\n",
      "request evaluation evaluated 0.93\n",
      "consult request evaluation evaluated 0.93\n",
      "           11 sitter 0.93\n",
      "treatment assessment 0.92\n",
      "involuntary treatment 0.92\n",
      "involuntary treatment assessment 0.92\n",
      "             consult 0.91\n",
      "        consulted dr 0.90\n",
      "  evaluation consult 0.90\n",
      "consult request evaluation consult 0.90\n",
      "evaluation consult requested 0.90\n",
      "request evaluation consult requested 0.90\n",
      "request evaluation consult 0.90\n",
      "      department ita 0.90\n",
      "emergency department ita 0.90\n",
      "emergency department ita involuntary 0.90\n",
      "department ita involuntary treatment 0.90\n",
      "department ita involuntary 0.90\n",
      "admitted emergency department ita 0.90\n",
      "physical examination appearance 0.90\n",
      "           hours yes 0.89\n",
      "   consult hours yes 0.89\n",
      "denies symptoms allergies 0.89\n",
      "symptoms denies symptoms allergies 0.89\n",
      "     nka medications 0.89\n",
      "Bad words\t     P(PsychConsult | word)\n",
      "exam diagnostic studies treatment 0.03\n",
      "diagnostic studies treatment plan 0.03\n",
      "diagnostic studies treatment 0.03\n",
      "   studies treatment 0.03\n",
      "studies treatment plan 0.03\n",
      "exam diagnostic studies 0.03\n",
      "        antiplatelet 0.03\n",
      "history physical exam diagnostic 0.03\n",
      "physical exam diagnostic 0.03\n",
      "previous anesthetic difficulties 0.03\n",
      " previous anesthetic 0.03\n",
      "     exam diagnostic 0.03\n",
      "anesthetic difficulties 0.03\n",
      "         airway exam 0.03\n",
      "history physical exam 0.03\n",
      "behaviors alcohol use 0.03\n",
      "  anesthesia history 0.03\n",
      "   family anesthesia 0.03\n",
      "family anesthesia history 0.03\n",
      "   behaviors alcohol 0.03\n",
      "course medical decision 0.03\n",
      "               apnea 0.03\n",
      "social behaviors alcohol use 0.03\n",
      "social behaviors alcohol 0.03\n",
      "  previous surgeries 0.03\n",
      "history previous surgeries 0.03\n",
      "surgical history previous surgeries 0.03\n",
      "         anesthetics 0.03\n",
      "         sleep apnea 0.03\n",
      "previous anesthetics 0.03\n",
      "summaryrecommendations 0.03\n",
      "physical examination vital 0.03\n",
      "physical examination vital signs 0.03\n",
      "examination vital signs 0.03\n",
      "   examination vital 0.03\n",
      "    social behaviors 0.03\n",
      "surgical history previous 0.03\n",
      "past surgical history previous 0.03\n",
      "  proposed procedure 0.03\n",
      "       preanesthesia 0.03\n",
      "visit information date 0.03\n",
      "    information date 0.03\n",
      " additional comments 0.03\n",
      "                spo2 0.03\n",
      "          type visit 0.03\n",
      "   ponv risk factors 0.03\n",
      "           ponv risk 0.03\n",
      "          anesthesia 0.02\n",
      "                ponv 0.02\n",
      "          anesthetic 0.02\n"
     ]
    }
   ],
   "source": [
    "words = np.array(vectorizer.get_feature_names())\n",
    "\n",
    "x = np.eye(xtest.shape[1])\n",
    "probs = clf.predict_log_proba(x)[:, 0]\n",
    "ind = np.argsort(probs)\n",
    "\n",
    "good_words = words[ind[:50]]\n",
    "bad_words = words[ind[-50:]]\n",
    "\n",
    "good_prob = probs[ind[:50]]\n",
    "bad_prob = probs[ind[-50:]]\n",
    "\n",
    "print(\"Good words\\t     P(PsychConsult | word)\")\n",
    "for w, p in zip(good_words, good_prob):\n",
    "    print(\"{:>20}\".format(w), \"{:.2f}\".format(1 - np.exp(p)))\n",
    "    \n",
    "print(\"Bad words\\t     P(PsychConsult | word)\")\n",
    "for w, p in zip(bad_words, bad_prob):\n",
    "    print(\"{:>20}\".format(w), \"{:.2f}\".format(1 - np.exp(p)))"
   ]
  },
  {
   "cell_type": "code",
   "execution_count": null,
   "metadata": {
    "collapsed": true
   },
   "outputs": [],
   "source": []
  },
  {
   "cell_type": "markdown",
   "metadata": {},
   "source": [
    "# ASSESSING THE GIVEN LIST"
   ]
  },
  {
   "cell_type": "code",
   "execution_count": 89,
   "metadata": {
    "collapsed": false
   },
   "outputs": [
    {
     "data": {
      "text/plain": [
       "array([[ 0.42277845,  0.57722155]])"
      ]
     },
     "execution_count": 89,
     "metadata": {},
     "output_type": "execute_result"
    }
   ],
   "source": [
    "clf.predict_proba(vectorizer.transform(['abuse']))"
   ]
  },
  {
   "cell_type": "code",
   "execution_count": 90,
   "metadata": {
    "collapsed": false
   },
   "outputs": [
    {
     "data": {
      "text/plain": [
       "array([[ 0.01082094,  0.98917906]])"
      ]
     },
     "execution_count": 90,
     "metadata": {},
     "output_type": "execute_result"
    }
   ],
   "source": [
    "clf.predict_proba(vectorizer.transform(['suicide attempt']))"
   ]
  },
  {
   "cell_type": "code",
   "execution_count": 91,
   "metadata": {
    "collapsed": false
   },
   "outputs": [
    {
     "data": {
      "text/plain": [
       "array([[ 0.42277845,  0.57722155]])"
      ]
     },
     "execution_count": 91,
     "metadata": {},
     "output_type": "execute_result"
    }
   ],
   "source": [
    "clf.predict_proba(vectorizer.transform(['verbal abuse']))"
   ]
  },
  {
   "cell_type": "code",
   "execution_count": 92,
   "metadata": {
    "collapsed": false
   },
   "outputs": [
    {
     "data": {
      "text/plain": [
       "array([[ 0.54149844,  0.45850156]])"
      ]
     },
     "execution_count": 92,
     "metadata": {},
     "output_type": "execute_result"
    }
   ],
   "source": [
    "clf.predict_proba(vectorizer.transform(['physical abuse']))"
   ]
  },
  {
   "cell_type": "code",
   "execution_count": 93,
   "metadata": {
    "collapsed": false
   },
   "outputs": [
    {
     "data": {
      "text/plain": [
       "array([[ 0.42277845,  0.57722155]])"
      ]
     },
     "execution_count": 93,
     "metadata": {},
     "output_type": "execute_result"
    }
   ],
   "source": [
    "clf.predict_proba(vectorizer.transform(['sexual abuse']))"
   ]
  },
  {
   "cell_type": "code",
   "execution_count": 94,
   "metadata": {
    "collapsed": false
   },
   "outputs": [
    {
     "data": {
      "text/plain": [
       "array([[ 0.58076761,  0.41923239]])"
      ]
     },
     "execution_count": 94,
     "metadata": {},
     "output_type": "execute_result"
    }
   ],
   "source": [
    "clf.predict_proba(vectorizer.transform(['witness to']))"
   ]
  },
  {
   "cell_type": "code",
   "execution_count": 95,
   "metadata": {
    "collapsed": false
   },
   "outputs": [
    {
     "data": {
      "text/plain": [
       "array([[ 0.43639326,  0.56360674]])"
      ]
     },
     "execution_count": 95,
     "metadata": {},
     "output_type": "execute_result"
    }
   ],
   "source": [
    "clf.predict_proba(vectorizer.transform(['parents separated']))"
   ]
  },
  {
   "cell_type": "code",
   "execution_count": 96,
   "metadata": {
    "collapsed": false
   },
   "outputs": [
    {
     "data": {
      "text/plain": [
       "array([[ 0.4157419,  0.5842581]])"
      ]
     },
     "execution_count": 96,
     "metadata": {},
     "output_type": "execute_result"
    }
   ],
   "source": [
    "clf.predict_proba(vectorizer.transform(['firearm related']))"
   ]
  },
  {
   "cell_type": "code",
   "execution_count": 97,
   "metadata": {
    "collapsed": false
   },
   "outputs": [
    {
     "data": {
      "text/plain": [
       "array([[ 0.4157419,  0.5842581]])"
      ]
     },
     "execution_count": 97,
     "metadata": {},
     "output_type": "execute_result"
    }
   ],
   "source": [
    "clf.predict_proba(vectorizer.transform(['overdose related']))"
   ]
  },
  {
   "cell_type": "code",
   "execution_count": null,
   "metadata": {
    "collapsed": true
   },
   "outputs": [],
   "source": []
  },
  {
   "cell_type": "code",
   "execution_count": 98,
   "metadata": {
    "collapsed": false
   },
   "outputs": [
    {
     "data": {
      "text/plain": [
       "array([[ 0.30565385,  0.69434615]])"
      ]
     },
     "execution_count": 98,
     "metadata": {},
     "output_type": "execute_result"
    }
   ],
   "source": [
    "clf.predict_proba(vectorizer.transform(['family mental illness']))"
   ]
  },
  {
   "cell_type": "code",
   "execution_count": 99,
   "metadata": {
    "collapsed": false
   },
   "outputs": [
    {
     "data": {
      "text/plain": [
       "array([[ 0.01185301,  0.98814699]])"
      ]
     },
     "execution_count": 99,
     "metadata": {},
     "output_type": "execute_result"
    }
   ],
   "source": [
    "clf.predict_proba(vectorizer.transform(['substance use disorder']))"
   ]
  },
  {
   "cell_type": "code",
   "execution_count": 100,
   "metadata": {
    "collapsed": false
   },
   "outputs": [
    {
     "data": {
      "text/plain": [
       "array([[ 0.66505258,  0.33494742]])"
      ]
     },
     "execution_count": 100,
     "metadata": {},
     "output_type": "execute_result"
    }
   ],
   "source": [
    "clf.predict_proba(vectorizer.transform(['loss of consciousness']))"
   ]
  },
  {
   "cell_type": "code",
   "execution_count": 101,
   "metadata": {
    "collapsed": false
   },
   "outputs": [
    {
     "data": {
      "text/plain": [
       "array([[ 0.45035494,  0.54964506]])"
      ]
     },
     "execution_count": 101,
     "metadata": {},
     "output_type": "execute_result"
    }
   ],
   "source": [
    "clf.predict_proba(vectorizer.transform(['out of control behavior']))"
   ]
  },
  {
   "cell_type": "code",
   "execution_count": 102,
   "metadata": {
    "collapsed": false
   },
   "outputs": [
    {
     "data": {
      "text/plain": [
       "array([0, 1])"
      ]
     },
     "execution_count": 102,
     "metadata": {},
     "output_type": "execute_result"
    }
   ],
   "source": [
    "clf.classes_"
   ]
  },
  {
   "cell_type": "code",
   "execution_count": null,
   "metadata": {
    "collapsed": true
   },
   "outputs": [],
   "source": []
  },
  {
   "cell_type": "code",
   "execution_count": null,
   "metadata": {
    "collapsed": true
   },
   "outputs": [],
   "source": []
  }
 ],
 "metadata": {
  "kernelspec": {
   "display_name": "Python [default]",
   "language": "python",
   "name": "python3"
  },
  "language_info": {
   "codemirror_mode": {
    "name": "ipython",
    "version": 3
   },
   "file_extension": ".py",
   "mimetype": "text/x-python",
   "name": "python",
   "nbconvert_exporter": "python",
   "pygments_lexer": "ipython3",
   "version": "3.5.2"
  }
 },
 "nbformat": 4,
 "nbformat_minor": 2
}
