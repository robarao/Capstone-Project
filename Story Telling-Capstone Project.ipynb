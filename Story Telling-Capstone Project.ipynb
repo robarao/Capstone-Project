{
 "cells": [
  {
   "cell_type": "code",
   "execution_count": 1,
   "metadata": {
    "collapsed": false
   },
   "outputs": [],
   "source": [
    "import numpy as np\n",
    "import pandas as pd\n",
    "import datetime\n",
    "import pandas as pd\n",
    "import matplotlib.pyplot as plt"
   ]
  },
  {
   "cell_type": "code",
   "execution_count": 2,
   "metadata": {
    "collapsed": true
   },
   "outputs": [],
   "source": [
    "import nltk\n",
    "#Need to download stopwords (d-(l)-stopwords-q) then comment out.\n",
    "#nltk.download_shell()"
   ]
  },
  {
   "cell_type": "code",
   "execution_count": 3,
   "metadata": {
    "collapsed": true
   },
   "outputs": [],
   "source": [
    "#read in 3 csv files\n",
    "df_cases=pd.read_excel(\"cases_blob_clean_10012017_v2.xlsx\",encoding=\"utf-8\")\n",
    "df_controls=pd.read_excel(\"controls_blob_clean_10012017_v2.xlsx\",encoding=\"utf-8\")\n",
    "df_datesClinics=pd.read_excel(\"C:/Users/arao2/Documents/Special Projects/EHR Case Finding/datesClinicsObtained_20180307.xlsx\",encoding=\"utf-8\")"
   ]
  },
  {
   "cell_type": "code",
   "execution_count": 4,
   "metadata": {
    "collapsed": false
   },
   "outputs": [
    {
     "data": {
      "text/html": [
       "<div>\n",
       "<table border=\"1\" class=\"dataframe\">\n",
       "  <thead>\n",
       "    <tr style=\"text-align: right;\">\n",
       "      <th></th>\n",
       "      <th>UPDT_CNT</th>\n",
       "      <th>CLINICAL_EVENT_ID</th>\n",
       "      <th>BLOB_CONTENTS</th>\n",
       "      <th>BLOB_SEQ_NUM</th>\n",
       "      <th>EID</th>\n",
       "      <th>HMCID</th>\n",
       "      <th>PARENT_EVENT_ID</th>\n",
       "      <th>cases</th>\n",
       "      <th>ADMIT_DTTM</th>\n",
       "      <th>EVENT_DTTM</th>\n",
       "      <th>clinic</th>\n",
       "    </tr>\n",
       "  </thead>\n",
       "  <tbody>\n",
       "    <tr>\n",
       "      <th>0</th>\n",
       "      <td>1.0</td>\n",
       "      <td>3.918091e+09</td>\n",
       "      <td>\\n \\n \\nID/CC \\n25 yo male with no know prior...</td>\n",
       "      <td>1.0</td>\n",
       "      <td>86e72698-9126-11e4-9435-00155dfb8959</td>\n",
       "      <td>H3679043</td>\n",
       "      <td>3918091383</td>\n",
       "      <td>1</td>\n",
       "      <td>08JAN15:09:36:00</td>\n",
       "      <td>08JAN15:15:20:00</td>\n",
       "      <td>HMC</td>\n",
       "    </tr>\n",
       "    <tr>\n",
       "      <th>1</th>\n",
       "      <td>2.0</td>\n",
       "      <td>3.918092e+09</td>\n",
       "      <td>\\n \\n \\nID/CC \\n25 yo male with no know prior...</td>\n",
       "      <td>1.0</td>\n",
       "      <td>86e72698-9126-11e4-9435-00155dfb8959</td>\n",
       "      <td>H3679043</td>\n",
       "      <td>3918091383</td>\n",
       "      <td>1</td>\n",
       "      <td>08JAN15:09:36:00</td>\n",
       "      <td>08JAN15:15:20:00</td>\n",
       "      <td>HMC</td>\n",
       "    </tr>\n",
       "  </tbody>\n",
       "</table>\n",
       "</div>"
      ],
      "text/plain": [
       "   UPDT_CNT  CLINICAL_EVENT_ID  \\\n",
       "0       1.0       3.918091e+09   \n",
       "1       2.0       3.918092e+09   \n",
       "\n",
       "                                       BLOB_CONTENTS  BLOB_SEQ_NUM  \\\n",
       "0   \\n \\n \\nID/CC \\n25 yo male with no know prior...           1.0   \n",
       "1   \\n \\n \\nID/CC \\n25 yo male with no know prior...           1.0   \n",
       "\n",
       "                                    EID     HMCID  PARENT_EVENT_ID  cases  \\\n",
       "0  86e72698-9126-11e4-9435-00155dfb8959  H3679043       3918091383      1   \n",
       "1  86e72698-9126-11e4-9435-00155dfb8959  H3679043       3918091383      1   \n",
       "\n",
       "         ADMIT_DTTM        EVENT_DTTM clinic  \n",
       "0  08JAN15:09:36:00  08JAN15:15:20:00    HMC  \n",
       "1  08JAN15:09:36:00  08JAN15:15:20:00    HMC  "
      ]
     },
     "execution_count": 4,
     "metadata": {},
     "output_type": "execute_result"
    }
   ],
   "source": [
    "#will need to link cases and controls vertically and then merge to clinic and dates horizontally\n",
    "df_combined_v1=df_cases.append(df_controls, ignore_index=True)\n",
    "df_combined=pd.merge(df_combined_v1,df_datesClinics[['HMCID','ADMIT_DTTM','EVENT_DTTM','clinic']], on='HMCID', how='left')\n",
    "df_combined.head(2)"
   ]
  },
  {
   "cell_type": "code",
   "execution_count": null,
   "metadata": {
    "collapsed": false
   },
   "outputs": [],
   "source": []
  },
  {
   "cell_type": "markdown",
   "metadata": {},
   "source": [
    "# A) DATA WRANGLING"
   ]
  },
  {
   "cell_type": "code",
   "execution_count": 5,
   "metadata": {
    "collapsed": false
   },
   "outputs": [],
   "source": [
    "#remove duplicates\n",
    "df_combined_working=df_combined.drop_duplicates(['BLOB_CONTENTS'])"
   ]
  },
  {
   "cell_type": "code",
   "execution_count": 6,
   "metadata": {
    "collapsed": false
   },
   "outputs": [
    {
     "name": "stdout",
     "output_type": "stream",
     "text": [
      "<class 'pandas.core.frame.DataFrame'>\n",
      "Int64Index: 7181 entries, 0 to 241413\n",
      "Data columns (total 11 columns):\n",
      "UPDT_CNT             7180 non-null float64\n",
      "CLINICAL_EVENT_ID    7180 non-null float64\n",
      "BLOB_CONTENTS        7180 non-null object\n",
      "BLOB_SEQ_NUM         7180 non-null float64\n",
      "EID                  7181 non-null object\n",
      "HMCID                7181 non-null object\n",
      "PARENT_EVENT_ID      7181 non-null int64\n",
      "cases                7181 non-null int64\n",
      "ADMIT_DTTM           7181 non-null object\n",
      "EVENT_DTTM           7181 non-null object\n",
      "clinic               7181 non-null object\n",
      "dtypes: float64(3), int64(2), object(6)\n",
      "memory usage: 673.2+ KB\n"
     ]
    }
   ],
   "source": [
    "#Assess missingingness\n",
    "df_combined_working.info()"
   ]
  },
  {
   "cell_type": "markdown",
   "metadata": {},
   "source": [
    "There are a few things to note here:\n",
    "1. it appears that only the first four columns has a null value.  This may contain missing blob content.\n",
    "If blob content is missing, then can exclude this since it gives nothing to the data.\n",
    "2. The two dates(ADMIT_DTTM and EVENT_DTTM) are in object formats"
   ]
  },
  {
   "cell_type": "code",
   "execution_count": 7,
   "metadata": {
    "collapsed": false
   },
   "outputs": [
    {
     "data": {
      "text/plain": [
       "UPDT_CNT              True\n",
       "CLINICAL_EVENT_ID     True\n",
       "BLOB_CONTENTS         True\n",
       "BLOB_SEQ_NUM          True\n",
       "EID                  False\n",
       "HMCID                False\n",
       "PARENT_EVENT_ID      False\n",
       "cases                False\n",
       "ADMIT_DTTM           False\n",
       "EVENT_DTTM           False\n",
       "clinic               False\n",
       "dtype: bool"
      ]
     },
     "execution_count": 7,
     "metadata": {},
     "output_type": "execute_result"
    }
   ],
   "source": [
    "#identifying which columns/rows has the missing values\n",
    "df_combined_working.isnull().any()"
   ]
  },
  {
   "cell_type": "code",
   "execution_count": 8,
   "metadata": {
    "collapsed": false
   },
   "outputs": [
    {
     "data": {
      "text/html": [
       "<div>\n",
       "<table border=\"1\" class=\"dataframe\">\n",
       "  <thead>\n",
       "    <tr style=\"text-align: right;\">\n",
       "      <th></th>\n",
       "      <th>UPDT_CNT</th>\n",
       "      <th>CLINICAL_EVENT_ID</th>\n",
       "      <th>BLOB_CONTENTS</th>\n",
       "      <th>BLOB_SEQ_NUM</th>\n",
       "      <th>EID</th>\n",
       "      <th>HMCID</th>\n",
       "      <th>PARENT_EVENT_ID</th>\n",
       "      <th>cases</th>\n",
       "      <th>ADMIT_DTTM</th>\n",
       "      <th>EVENT_DTTM</th>\n",
       "      <th>clinic</th>\n",
       "    </tr>\n",
       "  </thead>\n",
       "  <tbody>\n",
       "    <tr>\n",
       "      <th>18054</th>\n",
       "      <td>NaN</td>\n",
       "      <td>NaN</td>\n",
       "      <td>NaN</td>\n",
       "      <td>NaN</td>\n",
       "      <td>c8e02e8f-d7b9-11e5-944a-00155dfb887c</td>\n",
       "      <td>H3831547</td>\n",
       "      <td>4628683959</td>\n",
       "      <td>1</td>\n",
       "      <td>20FEB16:02:07:00</td>\n",
       "      <td>04APR16:14:41:00</td>\n",
       "      <td>HMC</td>\n",
       "    </tr>\n",
       "  </tbody>\n",
       "</table>\n",
       "</div>"
      ],
      "text/plain": [
       "       UPDT_CNT  CLINICAL_EVENT_ID BLOB_CONTENTS  BLOB_SEQ_NUM  \\\n",
       "18054       NaN                NaN           NaN           NaN   \n",
       "\n",
       "                                        EID     HMCID  PARENT_EVENT_ID  cases  \\\n",
       "18054  c8e02e8f-d7b9-11e5-944a-00155dfb887c  H3831547       4628683959      1   \n",
       "\n",
       "             ADMIT_DTTM        EVENT_DTTM clinic  \n",
       "18054  20FEB16:02:07:00  04APR16:14:41:00    HMC  "
      ]
     },
     "execution_count": 8,
     "metadata": {},
     "output_type": "execute_result"
    }
   ],
   "source": [
    "#double check to ensure nothing is in the blob content before excouding\n",
    "df_missing=df_combined_working[df_combined_working.isnull().any(axis=1)]\n",
    "df_missing.head()"
   ]
  },
  {
   "cell_type": "markdown",
   "metadata": {},
   "source": [
    "Therefore, is okay to drop the row with missing values since they are missing blob content|"
   ]
  },
  {
   "cell_type": "code",
   "execution_count": 9,
   "metadata": {
    "collapsed": false
   },
   "outputs": [],
   "source": [
    "df_combined_working=df_combined_working.dropna()"
   ]
  },
  {
   "cell_type": "code",
   "execution_count": 10,
   "metadata": {
    "collapsed": false
   },
   "outputs": [
    {
     "name": "stdout",
     "output_type": "stream",
     "text": [
      "<class 'pandas.core.frame.DataFrame'>\n",
      "Int64Index: 7180 entries, 0 to 241413\n",
      "Data columns (total 11 columns):\n",
      "UPDT_CNT             7180 non-null float64\n",
      "CLINICAL_EVENT_ID    7180 non-null float64\n",
      "BLOB_CONTENTS        7180 non-null object\n",
      "BLOB_SEQ_NUM         7180 non-null float64\n",
      "EID                  7180 non-null object\n",
      "HMCID                7180 non-null object\n",
      "PARENT_EVENT_ID      7180 non-null int64\n",
      "cases                7180 non-null int64\n",
      "ADMIT_DTTM           7180 non-null object\n",
      "EVENT_DTTM           7180 non-null object\n",
      "clinic               7180 non-null object\n",
      "dtypes: float64(3), int64(2), object(6)\n",
      "memory usage: 673.1+ KB\n"
     ]
    }
   ],
   "source": [
    "df_combined_working.info()"
   ]
  },
  {
   "cell_type": "code",
   "execution_count": null,
   "metadata": {
    "collapsed": true
   },
   "outputs": [],
   "source": []
  },
  {
   "cell_type": "markdown",
   "metadata": {},
   "source": [
    "In dealing with date time, will need to change the object into a datetime format.\n",
    "For future analysis, will create just a Month-Year, and Year column for both ADMIT_DTTM and EVENT_DTTM"
   ]
  },
  {
   "cell_type": "code",
   "execution_count": 11,
   "metadata": {
    "collapsed": false
   },
   "outputs": [
    {
     "name": "stdout",
     "output_type": "stream",
     "text": [
      "<class 'pandas.core.frame.DataFrame'>\n",
      "Int64Index: 7180 entries, 0 to 241413\n",
      "Data columns (total 11 columns):\n",
      "UPDT_CNT             7180 non-null float64\n",
      "CLINICAL_EVENT_ID    7180 non-null float64\n",
      "BLOB_CONTENTS        7180 non-null object\n",
      "BLOB_SEQ_NUM         7180 non-null float64\n",
      "EID                  7180 non-null object\n",
      "HMCID                7180 non-null object\n",
      "PARENT_EVENT_ID      7180 non-null int64\n",
      "cases                7180 non-null int64\n",
      "ADMIT_DTTM           7180 non-null datetime64[ns]\n",
      "EVENT_DTTM           7180 non-null datetime64[ns]\n",
      "clinic               7180 non-null object\n",
      "dtypes: datetime64[ns](2), float64(3), int64(2), object(4)\n",
      "memory usage: 673.1+ KB\n"
     ]
    }
   ],
   "source": [
    "df_combined_working['ADMIT_DTTM'] =  pd.to_datetime(df_combined_working['ADMIT_DTTM'],format='%d%b%y:%H:%M:%S')\n",
    "df_combined_working['EVENT_DTTM'] =  pd.to_datetime(df_combined_working['EVENT_DTTM'],format='%d%b%y:%H:%M:%S')\n",
    "df_combined_working.info()"
   ]
  },
  {
   "cell_type": "code",
   "execution_count": 12,
   "metadata": {
    "collapsed": false
   },
   "outputs": [],
   "source": [
    "#extract year\n",
    "df_combined_working['event_year'] = df_combined_working['EVENT_DTTM'].dt.year\n",
    "df_combined_working['event_month'] = df_combined_working['EVENT_DTTM'].dt.month\n",
    "df_combined_working['event_monyr'] = df_combined_working['EVENT_DTTM'].apply(lambda x: x.strftime('%B-%Y')) \n",
    "\n",
    "df_combined_working['admit_year'] = df_combined_working['ADMIT_DTTM'].dt.year\n",
    "df_combined_working['admit_month'] = df_combined_working['ADMIT_DTTM'].dt.month\n",
    "df_combined_working['admit_monyr'] = df_combined_working['ADMIT_DTTM'].apply(lambda x: x.strftime('%B-%Y')) "
   ]
  },
  {
   "cell_type": "code",
   "execution_count": 13,
   "metadata": {
    "collapsed": false
   },
   "outputs": [
    {
     "data": {
      "text/html": [
       "<div>\n",
       "<table border=\"1\" class=\"dataframe\">\n",
       "  <thead>\n",
       "    <tr style=\"text-align: right;\">\n",
       "      <th></th>\n",
       "      <th>UPDT_CNT</th>\n",
       "      <th>CLINICAL_EVENT_ID</th>\n",
       "      <th>BLOB_CONTENTS</th>\n",
       "      <th>BLOB_SEQ_NUM</th>\n",
       "      <th>EID</th>\n",
       "      <th>HMCID</th>\n",
       "      <th>PARENT_EVENT_ID</th>\n",
       "      <th>cases</th>\n",
       "      <th>ADMIT_DTTM</th>\n",
       "      <th>EVENT_DTTM</th>\n",
       "      <th>clinic</th>\n",
       "      <th>event_year</th>\n",
       "      <th>event_month</th>\n",
       "      <th>event_monyr</th>\n",
       "      <th>admit_year</th>\n",
       "      <th>admit_month</th>\n",
       "      <th>admit_monyr</th>\n",
       "    </tr>\n",
       "  </thead>\n",
       "  <tbody>\n",
       "    <tr>\n",
       "      <th>0</th>\n",
       "      <td>1.0</td>\n",
       "      <td>3.918091e+09</td>\n",
       "      <td>\\n \\n \\nID/CC \\n25 yo male with no know prior...</td>\n",
       "      <td>1.0</td>\n",
       "      <td>86e72698-9126-11e4-9435-00155dfb8959</td>\n",
       "      <td>H3679043</td>\n",
       "      <td>3918091383</td>\n",
       "      <td>1</td>\n",
       "      <td>2015-01-08 09:36:00</td>\n",
       "      <td>2015-01-08 15:20:00</td>\n",
       "      <td>HMC</td>\n",
       "      <td>2015</td>\n",
       "      <td>1</td>\n",
       "      <td>January-2015</td>\n",
       "      <td>2015</td>\n",
       "      <td>1</td>\n",
       "      <td>January-2015</td>\n",
       "    </tr>\n",
       "    <tr>\n",
       "      <th>3</th>\n",
       "      <td>2.0</td>\n",
       "      <td>3.908087e+09</td>\n",
       "      <td>\\n \\n \\nID/CC \\nJackson is a 25 year old male...</td>\n",
       "      <td>1.0</td>\n",
       "      <td>4320febf-91b7-11e4-9435-00155dfb8959</td>\n",
       "      <td>H3660100</td>\n",
       "      <td>3908063465</td>\n",
       "      <td>1</td>\n",
       "      <td>2015-01-01 05:07:00</td>\n",
       "      <td>2015-01-01 17:20:00</td>\n",
       "      <td>HMC</td>\n",
       "      <td>2015</td>\n",
       "      <td>1</td>\n",
       "      <td>January-2015</td>\n",
       "      <td>2015</td>\n",
       "      <td>1</td>\n",
       "      <td>January-2015</td>\n",
       "    </tr>\n",
       "    <tr>\n",
       "      <th>4</th>\n",
       "      <td>1.0</td>\n",
       "      <td>3.907800e+09</td>\n",
       "      <td>\\n \\n \\nID/CC \\n33 year old male with signifi...</td>\n",
       "      <td>1.0</td>\n",
       "      <td>e0d430f8-91b0-11e4-9435-00155dfb8959</td>\n",
       "      <td>H2217426</td>\n",
       "      <td>3907800058</td>\n",
       "      <td>1</td>\n",
       "      <td>2015-01-01 04:22:00</td>\n",
       "      <td>2015-01-01 11:06:00</td>\n",
       "      <td>HMC</td>\n",
       "      <td>2015</td>\n",
       "      <td>1</td>\n",
       "      <td>January-2015</td>\n",
       "      <td>2015</td>\n",
       "      <td>1</td>\n",
       "      <td>January-2015</td>\n",
       "    </tr>\n",
       "  </tbody>\n",
       "</table>\n",
       "</div>"
      ],
      "text/plain": [
       "   UPDT_CNT  CLINICAL_EVENT_ID  \\\n",
       "0       1.0       3.918091e+09   \n",
       "3       2.0       3.908087e+09   \n",
       "4       1.0       3.907800e+09   \n",
       "\n",
       "                                       BLOB_CONTENTS  BLOB_SEQ_NUM  \\\n",
       "0   \\n \\n \\nID/CC \\n25 yo male with no know prior...           1.0   \n",
       "3   \\n \\n \\nID/CC \\nJackson is a 25 year old male...           1.0   \n",
       "4   \\n \\n \\nID/CC \\n33 year old male with signifi...           1.0   \n",
       "\n",
       "                                    EID     HMCID  PARENT_EVENT_ID  cases  \\\n",
       "0  86e72698-9126-11e4-9435-00155dfb8959  H3679043       3918091383      1   \n",
       "3  4320febf-91b7-11e4-9435-00155dfb8959  H3660100       3908063465      1   \n",
       "4  e0d430f8-91b0-11e4-9435-00155dfb8959  H2217426       3907800058      1   \n",
       "\n",
       "           ADMIT_DTTM          EVENT_DTTM clinic  event_year  event_month  \\\n",
       "0 2015-01-08 09:36:00 2015-01-08 15:20:00    HMC        2015            1   \n",
       "3 2015-01-01 05:07:00 2015-01-01 17:20:00    HMC        2015            1   \n",
       "4 2015-01-01 04:22:00 2015-01-01 11:06:00    HMC        2015            1   \n",
       "\n",
       "    event_monyr  admit_year  admit_month   admit_monyr  \n",
       "0  January-2015        2015            1  January-2015  \n",
       "3  January-2015        2015            1  January-2015  \n",
       "4  January-2015        2015            1  January-2015  "
      ]
     },
     "execution_count": 13,
     "metadata": {},
     "output_type": "execute_result"
    }
   ],
   "source": [
    "df_combined_working.head(3)"
   ]
  },
  {
   "cell_type": "code",
   "execution_count": 14,
   "metadata": {
    "collapsed": true
   },
   "outputs": [],
   "source": [
    "#in order to assess length, need to change 'blob contents' \n",
    "#into string. Create an iteration to do for each row entry.\n",
    "df_combined_working['blob_string']=df_combined_working['BLOB_CONTENTS'].astype('str') "
   ]
  },
  {
   "cell_type": "code",
   "execution_count": 15,
   "metadata": {
    "collapsed": true
   },
   "outputs": [],
   "source": [
    "#remove the \\n, \\t, \\'\n",
    "df_combined_working = df_combined_working.replace('\\n','', regex=True)\n",
    "df_combined_working = df_combined_working.replace('\\t','', regex=True)\n",
    "df_combined_working = df_combined_working.replace('\\'','', regex=True)"
   ]
  },
  {
   "cell_type": "code",
   "execution_count": null,
   "metadata": {
    "collapsed": true
   },
   "outputs": [],
   "source": []
  },
  {
   "cell_type": "code",
   "execution_count": 16,
   "metadata": {
    "collapsed": false
   },
   "outputs": [],
   "source": [
    "#REPLACE LIST OF WORDS\n",
    "df_combined_working = df_combined_working.replace('verbal abuse','verbalabuse', regex=True)\n",
    "df_combined_working = df_combined_working.replace('physical abuse','physicalabuse', regex=True)\n",
    "df_combined_working = df_combined_working.replace('sexual abuse','sexualabuse', regex=True)\n",
    "df_combined_working = df_combined_working.replace('witness to','witnessto', regex=True)\n",
    "df_combidf_combined_workingned = df_combined_working.replace('parents separated','parentsseparated', regex=True)\n",
    "df_combined_working = df_combined_working.replace('family mental illness','familymentalillness', regex=True)\n",
    "df_combined_working = df_combined_working.replace('substance use disorder','substanceusedisorder', regex=True)\n",
    "df_combined_working = df_combined_working.replace('loss of consciousness','lossofconsciousness', regex=True)\n",
    "df_combined_working = df_combined_working.replace('firearm related','firearmrelated', regex=True)\n",
    "df_combined_working = df_combined_working.replace('overdose related','overdoserelated', regex=True)\n",
    "df_combined_working = df_combined_working.replace('out of control behavior','outofcontrolbehavior', regex=True)\n",
    "\n",
    "#EXCLUDE MEDICINE INFO\n",
    "df_combined_working.blob_string.replace(\"Results Review.*Problem List\", \"\", regex=True, inplace=True)"
   ]
  },
  {
   "cell_type": "code",
   "execution_count": 33,
   "metadata": {
    "collapsed": true
   },
   "outputs": [],
   "source": [
    "#create a new columm with length of string content\n",
    "df_combined_working['length']=df_combined_working['blob_string'].apply(len)"
   ]
  },
  {
   "cell_type": "code",
   "execution_count": 34,
   "metadata": {
    "collapsed": false
   },
   "outputs": [
    {
     "data": {
      "text/plain": [
       "count     7180.000000\n",
       "mean      8914.322284\n",
       "std       6290.379271\n",
       "min          2.000000\n",
       "25%       3878.500000\n",
       "50%       8099.000000\n",
       "75%      12377.500000\n",
       "max      32555.000000\n",
       "Name: length, dtype: float64"
      ]
     },
     "execution_count": 34,
     "metadata": {},
     "output_type": "execute_result"
    }
   ],
   "source": [
    "df_combined_working['length'].describe()"
   ]
  },
  {
   "cell_type": "code",
   "execution_count": null,
   "metadata": {
    "collapsed": true
   },
   "outputs": [],
   "source": []
  },
  {
   "cell_type": "markdown",
   "metadata": {},
   "source": [
    "# B) STORY TELLING\n",
    "    3. Does word count differ between case/control?\n",
    "        -use histogram to show.\n",
    "    4. Does word count vary over time?\n",
    "        -use line plot\n",
    "    5. Does word count vary between clinic?\n",
    "        -use boxplot"
   ]
  },
  {
   "cell_type": "code",
   "execution_count": 17,
   "metadata": {
    "collapsed": false
   },
   "outputs": [
    {
     "data": {
      "text/plain": [
       "dtype('O')"
      ]
     },
     "execution_count": 17,
     "metadata": {},
     "output_type": "execute_result"
    }
   ],
   "source": [
    "#check type of datasets to see why you have to make into string.\n",
    "#i.e. right now, they are as an object.\n",
    "df_combined_working['blob_string'].dtype"
   ]
  },
  {
   "cell_type": "code",
   "execution_count": 18,
   "metadata": {
    "collapsed": false
   },
   "outputs": [
    {
     "data": {
      "text/plain": [
       "count                                                  7180\n",
       "unique                                                 7180\n",
       "top          VISIT INFORMATION:  Unit: H-5MBService: H P...\n",
       "freq                                                      1\n",
       "Name: blob_string, dtype: object"
      ]
     },
     "execution_count": 18,
     "metadata": {},
     "output_type": "execute_result"
    }
   ],
   "source": [
    "#Check the number of rows\n",
    "df_combined_working['blob_string'].describe()"
   ]
  },
  {
   "cell_type": "code",
   "execution_count": 19,
   "metadata": {
    "collapsed": false
   },
   "outputs": [
    {
     "name": "stdout",
     "output_type": "stream",
     "text": [
      "(7180, 18)\n"
     ]
    }
   ],
   "source": [
    "print(df_combined_working.shape)"
   ]
  },
  {
   "cell_type": "code",
   "execution_count": 20,
   "metadata": {
    "collapsed": false
   },
   "outputs": [],
   "source": [
    "#make histogram of length for comparison\n",
    "#Been having a problem re-organizing order of histogram.  Will try to create a new \n",
    "# category and try to re-order and plot.  Will do this by a) creating a function\n",
    "# and b) applying the function. \n",
    "\n",
    "#a) Function to create a new numerical category\n",
    "def newCategory (row):\n",
    "    if row['cases']==0:\n",
    "        return ' Control'\n",
    "    if row['cases']==1:\n",
    "        return 'Case'\n",
    "\n",
    "#b) apply above function\n",
    "df_combined_working['numCat'] = df_combined_working.apply (lambda row: newCategory (row),axis=1)"
   ]
  },
  {
   "cell_type": "code",
   "execution_count": 21,
   "metadata": {
    "collapsed": false
   },
   "outputs": [
    {
     "data": {
      "text/plain": [
       "array([<matplotlib.axes._subplots.AxesSubplot object at 0x000001E598050128>,\n",
       "       <matplotlib.axes._subplots.AxesSubplot object at 0x000001E5981A6CF8>], dtype=object)"
      ]
     },
     "execution_count": 21,
     "metadata": {},
     "output_type": "execute_result"
    },
    {
     "data": {
      "image/png": "[encoded data removed]",
      "text/plain": [
       "<matplotlib.figure.Figure at 0x1e58e9becc0>"
      ]
     },
     "metadata": {},
     "output_type": "display_data"
    }
   ],
   "source": [
    "#Plot histogram\n",
    "import matplotlib.pyplot as plt\n",
    "import seaborn as sns\n",
    "%matplotlib inline\n",
    "df_combined_working.sort_values(by='numCat', ascending=False)\n",
    "df_combined_working.hist(column=\"length\",by=\"numCat\",bins=30, figsize=(12,4))"
   ]
  },
  {
   "cell_type": "markdown",
   "metadata": {},
   "source": [
    "## The above shows that cases have more word counts.  Will superimpose the two histograms."
   ]
  },
  {
   "cell_type": "code",
   "execution_count": 22,
   "metadata": {
    "collapsed": false
   },
   "outputs": [],
   "source": [
    "#superimposing histogram\n",
    "df_contrl=df_combined_working.loc[df_combined_working['cases']==0,['ADMIT_DTTM','cases','length']]\n",
    "df_case=df_combined_working.loc[df_combined_working['cases']==1,['ADMIT_DTTM','cases','length']]"
   ]
  },
  {
   "cell_type": "code",
   "execution_count": 32,
   "metadata": {
    "collapsed": false
   },
   "outputs": [
    {
     "data": {
      "image/png": "[encoded data removed]",
      "text/plain": [
       "<matplotlib.figure.Figure at 0x1e5956896d8>"
      ]
     },
     "metadata": {},
     "output_type": "display_data"
    }
   ],
   "source": [
    "df_contrl['length'].plot(kind='hist', bins=30, alpha=.3,color='blue')\n",
    "df_case['length'].plot(kind='hist', bins=30, alpha=.3,color='red')\n",
    "plt.title('Word count in Cases vs Controls')\n",
    "plt.legend([\"Controls\", \"Cases\"])\n",
    "plt.xlabel('Length of Messages')\n",
    "plt.show()"
   ]
  },
  {
   "cell_type": "code",
   "execution_count": 24,
   "metadata": {
    "collapsed": true
   },
   "outputs": [],
   "source": [
    "#CREATE LINEPLOT OVER TIME\n",
    "df_dateIndex=df_combined_working.set_index('admit_monyr')"
   ]
  },
  {
   "cell_type": "code",
   "execution_count": 25,
   "metadata": {
    "collapsed": false
   },
   "outputs": [],
   "source": [
    "df_contrl_resample=df_contrl.resample('M',on='ADMIT_DTTM').mean()\n",
    "df_case_resample=df_case.resample('M',on='ADMIT_DTTM').mean()"
   ]
  },
  {
   "cell_type": "code",
   "execution_count": 31,
   "metadata": {
    "collapsed": false
   },
   "outputs": [
    {
     "data": {
      "text/plain": [
       "<matplotlib.legend.Legend at 0x1e598bb2cc0>"
      ]
     },
     "execution_count": 31,
     "metadata": {},
     "output_type": "execute_result"
    },
    {
     "data": {
      "image/png": "[encoded data removed]",
      "text/plain": [
       "<matplotlib.figure.Figure at 0x1e5986d8f28>"
      ]
     },
     "metadata": {},
     "output_type": "display_data"
    }
   ],
   "source": [
    "fig, ax= plt.subplots()\n",
    "ax.plot(df_contrl_resample.length, color='b') #plot controls as blue\n",
    "ax.plot(df_case_resample.length, color='r')   #plot cases as red\n",
    "#ax.grid(b=False)\n",
    "\n",
    "plt.xticks(rotation=45)\n",
    "\n",
    "ax.set_title('Mean Length of Blobs Over Time')\n",
    "ax.set_ylabel('Word Count')\n",
    "ax.set_xlabel('Time')\n",
    "ax.legend([\"Controls\", \"Cases\"])"
   ]
  },
  {
   "cell_type": "code",
   "execution_count": 29,
   "metadata": {
    "collapsed": false
   },
   "outputs": [
    {
     "data": {
      "image/png": "[encoded data removed]",
      "text/plain": [
       "<matplotlib.figure.Figure at 0x1e598305e48>"
      ]
     },
     "metadata": {},
     "output_type": "display_data"
    }
   ],
   "source": [
    "#CREATE BOXPLOT by CLINIC\n",
    "fig, axes = plt.subplots(nrows=1, ncols=2)\n",
    "\n",
    "# Generate a box plot of the fare prices for the First passenger class\n",
    "df_combined_working.loc[df_combined_working['clinic'] =='HMC'].plot(ax=axes[0], y='length', kind='box',title='HMC')\n",
    "df_combined_working.loc[df_combined_working['clinic'] == 'UW'].plot(ax=axes[1], y='length', kind='box',title='UW')\n",
    "plt.show()"
   ]
  },
  {
   "cell_type": "markdown",
   "metadata": {},
   "source": [
    "# SUMMARY:\n",
    "# The length of messages do seem different when comparing cases vs controls.  From the histogram, there appears to be an area under the case curve that does not overlap with that of controls.  This suggest distinct words may be present in this area.  When comparing cases vs. controls, there does not appear to be a trend in increasing or decreasing word counts over time.   In general, cases have higher word counts than controls which appears consistent througout time.  This is evident in the line plot.  Finally, UW does seem to have less word counts than HMC.  This is not surprising since HMC serves more patients with mental health problems, which is why we included this particular hospital."
   ]
  },
  {
   "cell_type": "code",
   "execution_count": null,
   "metadata": {
    "collapsed": true
   },
   "outputs": [],
   "source": []
  }
 ],
 "metadata": {
  "kernelspec": {
   "display_name": "Python [default]",
   "language": "python",
   "name": "python3"
  },
  "language_info": {
   "codemirror_mode": {
    "name": "ipython",
    "version": 3
   },
   "file_extension": ".py",
   "mimetype": "text/x-python",
   "name": "python",
   "nbconvert_exporter": "python",
   "pygments_lexer": "ipython3",
   "version": "3.5.2"
  }
 },
 "nbformat": 4,
 "nbformat_minor": 2
}
