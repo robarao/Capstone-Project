{
 "cells": [
  {
   "cell_type": "code",
   "execution_count": 1,
   "metadata": {
    "collapsed": false
   },
   "outputs": [],
   "source": [
    "import numpy as np\n",
    "import pandas as pd\n",
    "import datetime\n",
    "import pandas as pd\n",
    "import matplotlib.pyplot as plt"
   ]
  },
  {
   "cell_type": "code",
   "execution_count": 2,
   "metadata": {
    "collapsed": true
   },
   "outputs": [],
   "source": [
    "import nltk\n",
    "#Need to download stopwords (d-(l)-stopwords-q) then comment out.\n",
    "#nltk.download_shell()"
   ]
  },
  {
   "cell_type": "code",
   "execution_count": 3,
   "metadata": {
    "collapsed": true
   },
   "outputs": [],
   "source": [
    "#read in 3 csv files\n",
    "df_cases=pd.read_excel(\"cases_blob_clean_10012017_v2.xlsx\",encoding=\"utf-8\")\n",
    "df_controls=pd.read_excel(\"controls_blob_clean_10012017_v2.xlsx\",encoding=\"utf-8\")\n",
    "df_datesClinics=pd.read_excel(\"C:/Users/arao2/Documents/Special Projects/EHR Case Finding/datesClinicsObtained_20180307.xlsx\",encoding=\"utf-8\")"
   ]
  },
  {
   "cell_type": "code",
   "execution_count": 4,
   "metadata": {
    "collapsed": false
   },
   "outputs": [
    {
     "data": {
      "text/html": [
       "<div>\n",
       "<table border=\"1\" class=\"dataframe\">\n",
       "  <thead>\n",
       "    <tr style=\"text-align: right;\">\n",
       "      <th></th>\n",
       "      <th>UPDT_CNT</th>\n",
       "      <th>CLINICAL_EVENT_ID</th>\n",
       "      <th>BLOB_CONTENTS</th>\n",
       "      <th>BLOB_SEQ_NUM</th>\n",
       "      <th>EID</th>\n",
       "      <th>HMCID</th>\n",
       "      <th>PARENT_EVENT_ID</th>\n",
       "      <th>cases</th>\n",
       "      <th>ADMIT_DTTM</th>\n",
       "      <th>EVENT_DTTM</th>\n",
       "      <th>clinic</th>\n",
       "    </tr>\n",
       "  </thead>\n",
       "  <tbody>\n",
       "    <tr>\n",
       "      <th>0</th>\n",
       "      <td>1.0</td>\n",
       "      <td>3.918091e+09</td>\n",
       "      <td>\\n \\n \\nID/CC \\n25 yo male with no know prior...</td>\n",
       "      <td>1.0</td>\n",
       "      <td>86e72698-9126-11e4-9435-00155dfb8959</td>\n",
       "      <td>H3679043</td>\n",
       "      <td>3918091383</td>\n",
       "      <td>1</td>\n",
       "      <td>08JAN15:09:36:00</td>\n",
       "      <td>08JAN15:15:20:00</td>\n",
       "      <td>HMC</td>\n",
       "    </tr>\n",
       "    <tr>\n",
       "      <th>1</th>\n",
       "      <td>2.0</td>\n",
       "      <td>3.918092e+09</td>\n",
       "      <td>\\n \\n \\nID/CC \\n25 yo male with no know prior...</td>\n",
       "      <td>1.0</td>\n",
       "      <td>86e72698-9126-11e4-9435-00155dfb8959</td>\n",
       "      <td>H3679043</td>\n",
       "      <td>3918091383</td>\n",
       "      <td>1</td>\n",
       "      <td>08JAN15:09:36:00</td>\n",
       "      <td>08JAN15:15:20:00</td>\n",
       "      <td>HMC</td>\n",
       "    </tr>\n",
       "  </tbody>\n",
       "</table>\n",
       "</div>"
      ],
      "text/plain": [
       "   UPDT_CNT  CLINICAL_EVENT_ID  \\\n",
       "0       1.0       3.918091e+09   \n",
       "1       2.0       3.918092e+09   \n",
       "\n",
       "                                       BLOB_CONTENTS  BLOB_SEQ_NUM  \\\n",
       "0   \\n \\n \\nID/CC \\n25 yo male with no know prior...           1.0   \n",
       "1   \\n \\n \\nID/CC \\n25 yo male with no know prior...           1.0   \n",
       "\n",
       "                                    EID     HMCID  PARENT_EVENT_ID  cases  \\\n",
       "0  86e72698-9126-11e4-9435-00155dfb8959  H3679043       3918091383      1   \n",
       "1  86e72698-9126-11e4-9435-00155dfb8959  H3679043       3918091383      1   \n",
       "\n",
       "         ADMIT_DTTM        EVENT_DTTM clinic  \n",
       "0  08JAN15:09:36:00  08JAN15:15:20:00    HMC  \n",
       "1  08JAN15:09:36:00  08JAN15:15:20:00    HMC  "
      ]
     },
     "execution_count": 4,
     "metadata": {},
     "output_type": "execute_result"
    }
   ],
   "source": [
    "#will need to link cases and controls vertically and then merge to clinic and dates horizontally\n",
    "df_combined_v1=df_cases.append(df_controls, ignore_index=True)\n",
    "df_combined=pd.merge(df_combined_v1,df_datesClinics[['HMCID','ADMIT_DTTM','EVENT_DTTM','clinic']], on='HMCID', how='left')\n",
    "df_combined.head(2)"
   ]
  },
  {
   "cell_type": "code",
   "execution_count": null,
   "metadata": {
    "collapsed": false
   },
   "outputs": [],
   "source": []
  },
  {
   "cell_type": "markdown",
   "metadata": {},
   "source": [
    "# A) DATA WRANGLING"
   ]
  },
  {
   "cell_type": "code",
   "execution_count": 5,
   "metadata": {
    "collapsed": false
   },
   "outputs": [],
   "source": [
    "#remove duplicates\n",
    "df_combined_working=df_combined.drop_duplicates(['BLOB_CONTENTS'])"
   ]
  },
  {
   "cell_type": "code",
   "execution_count": 6,
   "metadata": {
    "collapsed": false
   },
   "outputs": [
    {
     "name": "stdout",
     "output_type": "stream",
     "text": [
      "<class 'pandas.core.frame.DataFrame'>\n",
      "Int64Index: 7181 entries, 0 to 241413\n",
      "Data columns (total 11 columns):\n",
      "UPDT_CNT             7180 non-null float64\n",
      "CLINICAL_EVENT_ID    7180 non-null float64\n",
      "BLOB_CONTENTS        7180 non-null object\n",
      "BLOB_SEQ_NUM         7180 non-null float64\n",
      "EID                  7181 non-null object\n",
      "HMCID                7181 non-null object\n",
      "PARENT_EVENT_ID      7181 non-null int64\n",
      "cases                7181 non-null int64\n",
      "ADMIT_DTTM           7181 non-null object\n",
      "EVENT_DTTM           7181 non-null object\n",
      "clinic               7181 non-null object\n",
      "dtypes: float64(3), int64(2), object(6)\n",
      "memory usage: 673.2+ KB\n"
     ]
    }
   ],
   "source": [
    "#Assess missingingness\n",
    "df_combined_working.info()"
   ]
  },
  {
   "cell_type": "markdown",
   "metadata": {},
   "source": [
    "There are a few things to note here:\n",
    "1. it appears that only the first four columns has a null value.  This may contain missing blob content.\n",
    "If blob content is missing, then can exclude this since it gives nothing to the data.\n",
    "2. The two dates(ADMIT_DTTM and EVENT_DTTM) are in object formats"
   ]
  },
  {
   "cell_type": "code",
   "execution_count": 7,
   "metadata": {
    "collapsed": false
   },
   "outputs": [
    {
     "data": {
      "text/plain": [
       "UPDT_CNT              True\n",
       "CLINICAL_EVENT_ID     True\n",
       "BLOB_CONTENTS         True\n",
       "BLOB_SEQ_NUM          True\n",
       "EID                  False\n",
       "HMCID                False\n",
       "PARENT_EVENT_ID      False\n",
       "cases                False\n",
       "ADMIT_DTTM           False\n",
       "EVENT_DTTM           False\n",
       "clinic               False\n",
       "dtype: bool"
      ]
     },
     "execution_count": 7,
     "metadata": {},
     "output_type": "execute_result"
    }
   ],
   "source": [
    "#identifying which columns/rows has the missing values\n",
    "df_combined_working.isnull().any()"
   ]
  },
  {
   "cell_type": "code",
   "execution_count": 8,
   "metadata": {
    "collapsed": false
   },
   "outputs": [
    {
     "data": {
      "text/html": [
       "<div>\n",
       "<table border=\"1\" class=\"dataframe\">\n",
       "  <thead>\n",
       "    <tr style=\"text-align: right;\">\n",
       "      <th></th>\n",
       "      <th>UPDT_CNT</th>\n",
       "      <th>CLINICAL_EVENT_ID</th>\n",
       "      <th>BLOB_CONTENTS</th>\n",
       "      <th>BLOB_SEQ_NUM</th>\n",
       "      <th>EID</th>\n",
       "      <th>HMCID</th>\n",
       "      <th>PARENT_EVENT_ID</th>\n",
       "      <th>cases</th>\n",
       "      <th>ADMIT_DTTM</th>\n",
       "      <th>EVENT_DTTM</th>\n",
       "      <th>clinic</th>\n",
       "    </tr>\n",
       "  </thead>\n",
       "  <tbody>\n",
       "    <tr>\n",
       "      <th>18054</th>\n",
       "      <td>NaN</td>\n",
       "      <td>NaN</td>\n",
       "      <td>NaN</td>\n",
       "      <td>NaN</td>\n",
       "      <td>c8e02e8f-d7b9-11e5-944a-00155dfb887c</td>\n",
       "      <td>H3831547</td>\n",
       "      <td>4628683959</td>\n",
       "      <td>1</td>\n",
       "      <td>20FEB16:02:07:00</td>\n",
       "      <td>04APR16:14:41:00</td>\n",
       "      <td>HMC</td>\n",
       "    </tr>\n",
       "  </tbody>\n",
       "</table>\n",
       "</div>"
      ],
      "text/plain": [
       "       UPDT_CNT  CLINICAL_EVENT_ID BLOB_CONTENTS  BLOB_SEQ_NUM  \\\n",
       "18054       NaN                NaN           NaN           NaN   \n",
       "\n",
       "                                        EID     HMCID  PARENT_EVENT_ID  cases  \\\n",
       "18054  c8e02e8f-d7b9-11e5-944a-00155dfb887c  H3831547       4628683959      1   \n",
       "\n",
       "             ADMIT_DTTM        EVENT_DTTM clinic  \n",
       "18054  20FEB16:02:07:00  04APR16:14:41:00    HMC  "
      ]
     },
     "execution_count": 8,
     "metadata": {},
     "output_type": "execute_result"
    }
   ],
   "source": [
    "#double check to ensure nothing is in the blob content before excouding\n",
    "df_missing=df_combined_working[df_combined_working.isnull().any(axis=1)]\n",
    "df_missing.head()"
   ]
  },
  {
   "cell_type": "markdown",
   "metadata": {},
   "source": [
    "Therefore, is okay to drop the row with missing values since they are missing blob content|"
   ]
  },
  {
   "cell_type": "code",
   "execution_count": 9,
   "metadata": {
    "collapsed": false
   },
   "outputs": [],
   "source": [
    "df_combined_working=df_combined_working.dropna()"
   ]
  },
  {
   "cell_type": "code",
   "execution_count": 10,
   "metadata": {
    "collapsed": false
   },
   "outputs": [
    {
     "name": "stdout",
     "output_type": "stream",
     "text": [
      "<class 'pandas.core.frame.DataFrame'>\n",
      "Int64Index: 7180 entries, 0 to 241413\n",
      "Data columns (total 11 columns):\n",
      "UPDT_CNT             7180 non-null float64\n",
      "CLINICAL_EVENT_ID    7180 non-null float64\n",
      "BLOB_CONTENTS        7180 non-null object\n",
      "BLOB_SEQ_NUM         7180 non-null float64\n",
      "EID                  7180 non-null object\n",
      "HMCID                7180 non-null object\n",
      "PARENT_EVENT_ID      7180 non-null int64\n",
      "cases                7180 non-null int64\n",
      "ADMIT_DTTM           7180 non-null object\n",
      "EVENT_DTTM           7180 non-null object\n",
      "clinic               7180 non-null object\n",
      "dtypes: float64(3), int64(2), object(6)\n",
      "memory usage: 673.1+ KB\n"
     ]
    }
   ],
   "source": [
    "df_combined_working.info()"
   ]
  },
  {
   "cell_type": "code",
   "execution_count": null,
   "metadata": {
    "collapsed": true
   },
   "outputs": [],
   "source": []
  },
  {
   "cell_type": "markdown",
   "metadata": {},
   "source": [
    "In dealing with date time, will need to change the object into a datetime format.\n",
    "For future analysis, will create just a Month-Year, and Year column for both ADMIT_DTTM and EVENT_DTTM"
   ]
  },
  {
   "cell_type": "code",
   "execution_count": 11,
   "metadata": {
    "collapsed": false
   },
   "outputs": [
    {
     "name": "stdout",
     "output_type": "stream",
     "text": [
      "<class 'pandas.core.frame.DataFrame'>\n",
      "Int64Index: 7180 entries, 0 to 241413\n",
      "Data columns (total 11 columns):\n",
      "UPDT_CNT             7180 non-null float64\n",
      "CLINICAL_EVENT_ID    7180 non-null float64\n",
      "BLOB_CONTENTS        7180 non-null object\n",
      "BLOB_SEQ_NUM         7180 non-null float64\n",
      "EID                  7180 non-null object\n",
      "HMCID                7180 non-null object\n",
      "PARENT_EVENT_ID      7180 non-null int64\n",
      "cases                7180 non-null int64\n",
      "ADMIT_DTTM           7180 non-null datetime64[ns]\n",
      "EVENT_DTTM           7180 non-null datetime64[ns]\n",
      "clinic               7180 non-null object\n",
      "dtypes: datetime64[ns](2), float64(3), int64(2), object(4)\n",
      "memory usage: 673.1+ KB\n"
     ]
    }
   ],
   "source": [
    "df_combined_working['ADMIT_DTTM'] =  pd.to_datetime(df_combined_working['ADMIT_DTTM'],format='%d%b%y:%H:%M:%S')\n",
    "df_combined_working['EVENT_DTTM'] =  pd.to_datetime(df_combined_working['EVENT_DTTM'],format='%d%b%y:%H:%M:%S')\n",
    "df_combined_working.info()"
   ]
  },
  {
   "cell_type": "code",
   "execution_count": 12,
   "metadata": {
    "collapsed": false
   },
   "outputs": [],
   "source": [
    "#extract year\n",
    "df_combined_working['event_year'] = df_combined_working['EVENT_DTTM'].dt.year\n",
    "df_combined_working['event_month'] = df_combined_working['EVENT_DTTM'].dt.month\n",
    "df_combined_working['event_monyr'] = df_combined_working['EVENT_DTTM'].apply(lambda x: x.strftime('%B-%Y')) \n",
    "\n",
    "df_combined_working['admit_year'] = df_combined_working['ADMIT_DTTM'].dt.year\n",
    "df_combined_working['admit_month'] = df_combined_working['ADMIT_DTTM'].dt.month\n",
    "df_combined_working['admit_monyr'] = df_combined_working['ADMIT_DTTM'].apply(lambda x: x.strftime('%B-%Y')) "
   ]
  },
  {
   "cell_type": "code",
   "execution_count": 13,
   "metadata": {
    "collapsed": false
   },
   "outputs": [
    {
     "data": {
      "text/html": [
       "<div>\n",
       "<table border=\"1\" class=\"dataframe\">\n",
       "  <thead>\n",
       "    <tr style=\"text-align: right;\">\n",
       "      <th></th>\n",
       "      <th>UPDT_CNT</th>\n",
       "      <th>CLINICAL_EVENT_ID</th>\n",
       "      <th>BLOB_CONTENTS</th>\n",
       "      <th>BLOB_SEQ_NUM</th>\n",
       "      <th>EID</th>\n",
       "      <th>HMCID</th>\n",
       "      <th>PARENT_EVENT_ID</th>\n",
       "      <th>cases</th>\n",
       "      <th>ADMIT_DTTM</th>\n",
       "      <th>EVENT_DTTM</th>\n",
       "      <th>clinic</th>\n",
       "      <th>event_year</th>\n",
       "      <th>event_month</th>\n",
       "      <th>event_monyr</th>\n",
       "      <th>admit_year</th>\n",
       "      <th>admit_month</th>\n",
       "      <th>admit_monyr</th>\n",
       "    </tr>\n",
       "  </thead>\n",
       "  <tbody>\n",
       "    <tr>\n",
       "      <th>0</th>\n",
       "      <td>1.0</td>\n",
       "      <td>3.918091e+09</td>\n",
       "      <td>\\n \\n \\nID/CC \\n25 yo male with no know prior...</td>\n",
       "      <td>1.0</td>\n",
       "      <td>86e72698-9126-11e4-9435-00155dfb8959</td>\n",
       "      <td>H3679043</td>\n",
       "      <td>3918091383</td>\n",
       "      <td>1</td>\n",
       "      <td>2015-01-08 09:36:00</td>\n",
       "      <td>2015-01-08 15:20:00</td>\n",
       "      <td>HMC</td>\n",
       "      <td>2015</td>\n",
       "      <td>1</td>\n",
       "      <td>January-2015</td>\n",
       "      <td>2015</td>\n",
       "      <td>1</td>\n",
       "      <td>January-2015</td>\n",
       "    </tr>\n",
       "    <tr>\n",
       "      <th>3</th>\n",
       "      <td>2.0</td>\n",
       "      <td>3.908087e+09</td>\n",
       "      <td>\\n \\n \\nID/CC \\nJackson is a 25 year old male...</td>\n",
       "      <td>1.0</td>\n",
       "      <td>4320febf-91b7-11e4-9435-00155dfb8959</td>\n",
       "      <td>H3660100</td>\n",
       "      <td>3908063465</td>\n",
       "      <td>1</td>\n",
       "      <td>2015-01-01 05:07:00</td>\n",
       "      <td>2015-01-01 17:20:00</td>\n",
       "      <td>HMC</td>\n",
       "      <td>2015</td>\n",
       "      <td>1</td>\n",
       "      <td>January-2015</td>\n",
       "      <td>2015</td>\n",
       "      <td>1</td>\n",
       "      <td>January-2015</td>\n",
       "    </tr>\n",
       "    <tr>\n",
       "      <th>4</th>\n",
       "      <td>1.0</td>\n",
       "      <td>3.907800e+09</td>\n",
       "      <td>\\n \\n \\nID/CC \\n33 year old male with signifi...</td>\n",
       "      <td>1.0</td>\n",
       "      <td>e0d430f8-91b0-11e4-9435-00155dfb8959</td>\n",
       "      <td>H2217426</td>\n",
       "      <td>3907800058</td>\n",
       "      <td>1</td>\n",
       "      <td>2015-01-01 04:22:00</td>\n",
       "      <td>2015-01-01 11:06:00</td>\n",
       "      <td>HMC</td>\n",
       "      <td>2015</td>\n",
       "      <td>1</td>\n",
       "      <td>January-2015</td>\n",
       "      <td>2015</td>\n",
       "      <td>1</td>\n",
       "      <td>January-2015</td>\n",
       "    </tr>\n",
       "  </tbody>\n",
       "</table>\n",
       "</div>"
      ],
      "text/plain": [
       "   UPDT_CNT  CLINICAL_EVENT_ID  \\\n",
       "0       1.0       3.918091e+09   \n",
       "3       2.0       3.908087e+09   \n",
       "4       1.0       3.907800e+09   \n",
       "\n",
       "                                       BLOB_CONTENTS  BLOB_SEQ_NUM  \\\n",
       "0   \\n \\n \\nID/CC \\n25 yo male with no know prior...           1.0   \n",
       "3   \\n \\n \\nID/CC \\nJackson is a 25 year old male...           1.0   \n",
       "4   \\n \\n \\nID/CC \\n33 year old male with signifi...           1.0   \n",
       "\n",
       "                                    EID     HMCID  PARENT_EVENT_ID  cases  \\\n",
       "0  86e72698-9126-11e4-9435-00155dfb8959  H3679043       3918091383      1   \n",
       "3  4320febf-91b7-11e4-9435-00155dfb8959  H3660100       3908063465      1   \n",
       "4  e0d430f8-91b0-11e4-9435-00155dfb8959  H2217426       3907800058      1   \n",
       "\n",
       "           ADMIT_DTTM          EVENT_DTTM clinic  event_year  event_month  \\\n",
       "0 2015-01-08 09:36:00 2015-01-08 15:20:00    HMC        2015            1   \n",
       "3 2015-01-01 05:07:00 2015-01-01 17:20:00    HMC        2015            1   \n",
       "4 2015-01-01 04:22:00 2015-01-01 11:06:00    HMC        2015            1   \n",
       "\n",
       "    event_monyr  admit_year  admit_month   admit_monyr  \n",
       "0  January-2015        2015            1  January-2015  \n",
       "3  January-2015        2015            1  January-2015  \n",
       "4  January-2015        2015            1  January-2015  "
      ]
     },
     "execution_count": 13,
     "metadata": {},
     "output_type": "execute_result"
    }
   ],
   "source": [
    "df_combined_working.head(3)"
   ]
  },
  {
   "cell_type": "code",
   "execution_count": 14,
   "metadata": {
    "collapsed": true
   },
   "outputs": [],
   "source": [
    "#in order to assess length, need to change 'blob contents' \n",
    "#into string. Create an iteration to do for each row entry.\n",
    "df_combined_working['blob_string']=df_combined_working['BLOB_CONTENTS'].astype('str') "
   ]
  },
  {
   "cell_type": "code",
   "execution_count": null,
   "metadata": {
    "collapsed": true
   },
   "outputs": [],
   "source": []
  },
  {
   "cell_type": "code",
   "execution_count": 15,
   "metadata": {
    "collapsed": false
   },
   "outputs": [],
   "source": [
    "#remove the \\n, \\t, \\'\n",
    "df_combined_working = df_combined_working.replace('\\n','', regex=True)\n",
    "df_combined_working = df_combined_working.replace('\\t','', regex=True)\n",
    "df_combined_working = df_combined_working.replace('\\'','', regex=True)"
   ]
  },
  {
   "cell_type": "code",
   "execution_count": null,
   "metadata": {
    "collapsed": true
   },
   "outputs": [],
   "source": []
  },
  {
   "cell_type": "code",
   "execution_count": 16,
   "metadata": {
    "collapsed": false
   },
   "outputs": [],
   "source": [
    "#REPLACE LIST OF WORDS\n",
    "df_combined_working = df_combined_working.replace('verbal abuse','verbalabuse', regex=True)\n",
    "df_combined_working = df_combined_working.replace('physical abuse','physicalabuse', regex=True)\n",
    "df_combined_working = df_combined_working.replace('sexual abuse','sexualabuse', regex=True)\n",
    "df_combined_working = df_combined_working.replace('witness to','witnessto', regex=True)\n",
    "df_combidf_combined_workingned = df_combined_working.replace('parents separated','parentsseparated', regex=True)\n",
    "df_combined_working = df_combined_working.replace('family mental illness','familymentalillness', regex=True)\n",
    "df_combined_working = df_combined_working.replace('substance use disorder','substanceusedisorder', regex=True)\n",
    "df_combined_working = df_combined_working.replace('loss of consciousness','lossofconsciousness', regex=True)\n",
    "df_combined_working = df_combined_working.replace('firearm related','firearmrelated', regex=True)\n",
    "df_combined_working = df_combined_working.replace('overdose related','overdoserelated', regex=True)\n",
    "df_combined_working = df_combined_working.replace('out of control behavior','outofcontrolbehavior', regex=True)\n",
    "\n",
    "#EXCLUDE MEDICINE INFO\n",
    "df_combined_working.blob_string.replace(\"Results Review.*Problem List\", \"\", regex=True, inplace=True)"
   ]
  },
  {
   "cell_type": "code",
   "execution_count": 17,
   "metadata": {
    "collapsed": true
   },
   "outputs": [],
   "source": [
    "#create a new columm with length of string content\n",
    "df_combined_working['length']=df_combined_working['blob_string'].apply(len)"
   ]
  },
  {
   "cell_type": "code",
   "execution_count": 18,
   "metadata": {
    "collapsed": false
   },
   "outputs": [
    {
     "data": {
      "text/plain": [
       "count     7180.000000\n",
       "mean      8908.347493\n",
       "std       6285.604461\n",
       "min          2.000000\n",
       "25%       3877.250000\n",
       "50%       8093.500000\n",
       "75%      12364.500000\n",
       "max      32462.000000\n",
       "Name: length, dtype: float64"
      ]
     },
     "execution_count": 18,
     "metadata": {},
     "output_type": "execute_result"
    }
   ],
   "source": [
    "df_combined_working['length'].describe()"
   ]
  },
  {
   "cell_type": "code",
   "execution_count": null,
   "metadata": {
    "collapsed": false
   },
   "outputs": [],
   "source": []
  },
  {
   "cell_type": "code",
   "execution_count": null,
   "metadata": {
    "collapsed": false
   },
   "outputs": [],
   "source": []
  },
  {
   "cell_type": "markdown",
   "metadata": {},
   "source": [
    "# B) STORY TELLING\n",
    "    3. Does word count differ between case/control?\n",
    "        -use histogram to show.\n",
    "    4. Does word count vary over time?\n",
    "        -use line plot\n",
    "    5. Does word count vary between clinic?\n",
    "        -use boxplot"
   ]
  },
  {
   "cell_type": "code",
   "execution_count": 19,
   "metadata": {
    "collapsed": false
   },
   "outputs": [
    {
     "data": {
      "text/plain": [
       "dtype('O')"
      ]
     },
     "execution_count": 19,
     "metadata": {},
     "output_type": "execute_result"
    }
   ],
   "source": [
    "#check type of datasets to see why you have to make into string.\n",
    "#i.e. right now, they are as an object.\n",
    "df_combined_working['blob_string'].dtype"
   ]
  },
  {
   "cell_type": "code",
   "execution_count": 20,
   "metadata": {
    "collapsed": false
   },
   "outputs": [
    {
     "data": {
      "text/plain": [
       "count                                                  7180\n",
       "unique                                                 7180\n",
       "top          VISIT INFORMATION: Glycemic Team ConsultRea...\n",
       "freq                                                      1\n",
       "Name: blob_string, dtype: object"
      ]
     },
     "execution_count": 20,
     "metadata": {},
     "output_type": "execute_result"
    }
   ],
   "source": [
    "#Check the number of rows\n",
    "df_combined_working['blob_string'].describe()"
   ]
  },
  {
   "cell_type": "code",
   "execution_count": 21,
   "metadata": {
    "collapsed": false
   },
   "outputs": [
    {
     "name": "stdout",
     "output_type": "stream",
     "text": [
      "(7180, 19)\n"
     ]
    }
   ],
   "source": [
    "print(df_combined_working.shape)"
   ]
  },
  {
   "cell_type": "code",
   "execution_count": null,
   "metadata": {
    "collapsed": false
   },
   "outputs": [],
   "source": []
  },
  {
   "cell_type": "code",
   "execution_count": null,
   "metadata": {
    "collapsed": true
   },
   "outputs": [],
   "source": []
  },
  {
   "cell_type": "code",
   "execution_count": 22,
   "metadata": {
    "collapsed": false
   },
   "outputs": [],
   "source": [
    "#make histogram of length for comparison\n",
    "#Been having a problem re-organizing order of histogram.  Will try to create a new \n",
    "# category and try to re-order and plot.  Will do this by a) creating a function\n",
    "# and b) applying the function. \n",
    "\n",
    "#a) Function to create a new numerical category\n",
    "def newCategory (row):\n",
    "    if row['cases']==0:\n",
    "        return ' Control'\n",
    "    if row['cases']==1:\n",
    "        return 'Case'\n",
    "\n",
    "#b) apply above function\n",
    "df_combined_working['numCat'] = df_combined_working.apply (lambda row: newCategory (row),axis=1)"
   ]
  },
  {
   "cell_type": "code",
   "execution_count": 23,
   "metadata": {
    "collapsed": false
   },
   "outputs": [
    {
     "data": {
      "text/plain": [
       "array([<matplotlib.axes._subplots.AxesSubplot object at 0x0000021044D83320>,\n",
       "       <matplotlib.axes._subplots.AxesSubplot object at 0x00000210461CFEF0>], dtype=object)"
      ]
     },
     "execution_count": 23,
     "metadata": {},
     "output_type": "execute_result"
    },
    {
     "data": {
      "image/png": "[encoded data removed]",
      "text/plain": [
       "<matplotlib.figure.Figure at 0x2103c7bad30>"
      ]
     },
     "metadata": {},
     "output_type": "display_data"
    }
   ],
   "source": [
    "#Plot histogram\n",
    "import matplotlib.pyplot as plt\n",
    "import seaborn as sns\n",
    "%matplotlib inline\n",
    "df_combined_working.sort_values(by='numCat', ascending=False)\n",
    "df_combined_working.hist(column=\"length\",by=\"numCat\",bins=30, figsize=(12,4))"
   ]
  },
  {
   "cell_type": "markdown",
   "metadata": {},
   "source": [
    "## The above shows that cases have more word counts.  Will superimpose the two histograms."
   ]
  },
  {
   "cell_type": "code",
   "execution_count": 24,
   "metadata": {
    "collapsed": false
   },
   "outputs": [],
   "source": [
    "#superimposing histogram\n",
    "df_contrl=df_combined_working.loc[df_combined_working['cases']==0,['ADMIT_DTTM','cases','length']]\n",
    "df_case=df_combined_working.loc[df_combined_working['cases']==1,['ADMIT_DTTM','cases','length']]"
   ]
  },
  {
   "cell_type": "code",
   "execution_count": 25,
   "metadata": {
    "collapsed": false
   },
   "outputs": [
    {
     "data": {
      "image/png": "[encoded data removed]",
      "text/plain": [
       "<matplotlib.figure.Figure at 0x2103eefc9e8>"
      ]
     },
     "metadata": {},
     "output_type": "display_data"
    }
   ],
   "source": [
    "df_contrl['length'].plot(kind='hist', bins=30, alpha=.3,color='blue')\n",
    "df_case['length'].plot(kind='hist', bins=30, alpha=.3,color='red')\n",
    "plt.title('Word count in Cases vs Controls')\n",
    "plt.legend([\"Controls\", \"Cases\"])\n",
    "plt.xlabel('Length of Messages')\n",
    "plt.show()"
   ]
  },
  {
   "cell_type": "code",
   "execution_count": 26,
   "metadata": {
    "collapsed": true
   },
   "outputs": [],
   "source": [
    "#CREATE LINEPLOT OVER TIME\n",
    "df_dateIndex=df_combined_working.set_index('admit_monyr')"
   ]
  },
  {
   "cell_type": "code",
   "execution_count": 27,
   "metadata": {
    "collapsed": false
   },
   "outputs": [],
   "source": [
    "df_contrl_resample=df_contrl.resample('M',on='ADMIT_DTTM').mean()\n",
    "df_case_resample=df_case.resample('M',on='ADMIT_DTTM').mean()"
   ]
  },
  {
   "cell_type": "code",
   "execution_count": 28,
   "metadata": {
    "collapsed": false
   },
   "outputs": [
    {
     "data": {
      "text/plain": [
       "<matplotlib.legend.Legend at 0x2104205c828>"
      ]
     },
     "execution_count": 28,
     "metadata": {},
     "output_type": "execute_result"
    },
    {
     "data": {
      "image/png": "[encoded data removed]",
      "text/plain": [
       "<matplotlib.figure.Figure at 0x210420eecc0>"
      ]
     },
     "metadata": {},
     "output_type": "display_data"
    }
   ],
   "source": [
    "fig, ax= plt.subplots()\n",
    "ax.plot(df_contrl_resample.length, color='b') #plot controls as blue\n",
    "ax.plot(df_case_resample.length, color='r')   #plot cases as red\n",
    "#ax.grid(b=False)\n",
    "\n",
    "plt.xticks(rotation=45)\n",
    "\n",
    "ax.set_title('Mean Length of Blobs Over Time')\n",
    "ax.set_ylabel('Word Count')\n",
    "ax.set_xlabel('Time')\n",
    "ax.legend([\"Controls\", \"Cases\"])"
   ]
  },
  {
   "cell_type": "code",
   "execution_count": 29,
   "metadata": {
    "collapsed": false
   },
   "outputs": [
    {
     "data": {
      "image/png": "[encoded data removed]",
      "text/plain": [
       "<matplotlib.figure.Figure at 0x21044cdda20>"
      ]
     },
     "metadata": {},
     "output_type": "display_data"
    }
   ],
   "source": [
    "#CREATE BOXPLOT by CLINIC\n",
    "fig, axes = plt.subplots(nrows=1, ncols=2)\n",
    "\n",
    "# Generate a box plot of the fare prices for the First passenger class\n",
    "df_combined_working.loc[df_combined_working['clinic'] =='HMC'].plot(ax=axes[0], y='length', kind='box',title='HMC')\n",
    "df_combined_working.loc[df_combined_working['clinic'] == 'UW'].plot(ax=axes[1], y='length', kind='box',title='UW')\n",
    "plt.show()"
   ]
  },
  {
   "cell_type": "code",
   "execution_count": null,
   "metadata": {
    "collapsed": true
   },
   "outputs": [],
   "source": []
  },
  {
   "cell_type": "markdown",
   "metadata": {},
   "source": [
    "# C) INFERENTIAL STATISTICS\n",
    "## SINCE THIS ANALYSIS IS BASED ON WORD PREDCITION, THE MAIN STATISTICS WILL COME IN A PREDICTION MODEL.\n",
    "1. Determine basic statistics in word count between cases and controls\n",
    "        a. Calculate 95% CI\n",
    "2. Determine basic statistics in word count between clincis: HMC vs UW\n",
    "        a. Calculate 95% CI\n",
    "3. Parse data into a train- and test- dataset\n",
    "4. Create a pipeline to do the following:\n",
    "        a.Token and Vectorize blob content\n",
    "            b.Calculate TFID\n",
    "                c.Create a model using naive_bayes\n",
    "5. Create a 'Classification Report'"
   ]
  },
  {
   "cell_type": "code",
   "execution_count": null,
   "metadata": {
    "collapsed": true
   },
   "outputs": [],
   "source": []
  },
  {
   "cell_type": "code",
   "execution_count": 30,
   "metadata": {
    "collapsed": true
   },
   "outputs": [],
   "source": [
    "#95%CI\n",
    "def ci_i (ci,mean,n,std):\n",
    "    \"\"\"\n",
    "    Input:\n",
    "    Output: 2 tailed confidence interval (95% or 99%)\n",
    "    Note: assumes only 100 DF\n",
    "    \"\"\"\n",
    "    if ci==95:\n",
    "        limit=1.984*(std/((n)**(.5)))\n",
    "        return (mean-limit,mean+limit)\n",
    "    elif ci==99:\n",
    "        limit=2.626*(std/((n)**(.5)))\n",
    "        return (mean-limit,mean+limit)\n",
    "    else:\n",
    "        print(\"Error\")"
   ]
  },
  {
   "cell_type": "code",
   "execution_count": 31,
   "metadata": {
    "collapsed": false
   },
   "outputs": [
    {
     "data": {
      "text/html": [
       "<div>\n",
       "<table border=\"1\" class=\"dataframe\">\n",
       "  <thead>\n",
       "    <tr style=\"text-align: right;\">\n",
       "      <th></th>\n",
       "      <th>count</th>\n",
       "      <th>mean</th>\n",
       "      <th>std</th>\n",
       "      <th>min</th>\n",
       "      <th>25%</th>\n",
       "      <th>50%</th>\n",
       "      <th>75%</th>\n",
       "      <th>max</th>\n",
       "    </tr>\n",
       "    <tr>\n",
       "      <th>numCat</th>\n",
       "      <th></th>\n",
       "      <th></th>\n",
       "      <th></th>\n",
       "      <th></th>\n",
       "      <th></th>\n",
       "      <th></th>\n",
       "      <th></th>\n",
       "      <th></th>\n",
       "    </tr>\n",
       "  </thead>\n",
       "  <tbody>\n",
       "    <tr>\n",
       "      <th>Control</th>\n",
       "      <td>4327.0</td>\n",
       "      <td>6002.067714</td>\n",
       "      <td>4915.943072</td>\n",
       "      <td>2.0</td>\n",
       "      <td>2398.5</td>\n",
       "      <td>4878.0</td>\n",
       "      <td>8202.5</td>\n",
       "      <td>32185.0</td>\n",
       "    </tr>\n",
       "    <tr>\n",
       "      <th>Case</th>\n",
       "      <td>2853.0</td>\n",
       "      <td>13316.154224</td>\n",
       "      <td>5526.662584</td>\n",
       "      <td>90.0</td>\n",
       "      <td>9585.0</td>\n",
       "      <td>12203.0</td>\n",
       "      <td>16163.0</td>\n",
       "      <td>32462.0</td>\n",
       "    </tr>\n",
       "  </tbody>\n",
       "</table>\n",
       "</div>"
      ],
      "text/plain": [
       "           count          mean          std   min     25%      50%      75%  \\\n",
       "numCat                                                                        \n",
       " Control  4327.0   6002.067714  4915.943072   2.0  2398.5   4878.0   8202.5   \n",
       "Case      2853.0  13316.154224  5526.662584  90.0  9585.0  12203.0  16163.0   \n",
       "\n",
       "              max  \n",
       "numCat             \n",
       " Control  32185.0  \n",
       "Case      32462.0  "
      ]
     },
     "execution_count": 31,
     "metadata": {},
     "output_type": "execute_result"
    }
   ],
   "source": [
    "grouped_data = df_combined_working.groupby(['numCat'])\n",
    "grouped_data['length'].describe().unstack()"
   ]
  },
  {
   "cell_type": "code",
   "execution_count": 32,
   "metadata": {
    "collapsed": false
   },
   "outputs": [
    {
     "name": "stdout",
     "output_type": "stream",
     "text": [
      "The mean word count for the controls was 6,002.1 with  95%CI of (5908.4,6204.9)\n",
      "The mean word count for the cases was 13,316.2 with  95%CI of (13110.9,13521.4)\n"
     ]
    }
   ],
   "source": [
    "l1,u1=ci_i(95,6056.628149,4327,4915.943072)\n",
    "l2,u2=ci_i(95,13316.154224,2853,5526.662584)\n",
    "\n",
    "print(\"The mean word count for the controls was 6,002.1 with  95%CI of ({:.1f},{:.1f})\".format(l1, u1))\n",
    "print(\"The mean word count for the cases was 13,316.2 with  95%CI of ({:.1f},{:.1f})\".format(l2, u2))"
   ]
  },
  {
   "cell_type": "code",
   "execution_count": null,
   "metadata": {
    "collapsed": true
   },
   "outputs": [],
   "source": []
  },
  {
   "cell_type": "code",
   "execution_count": 33,
   "metadata": {
    "collapsed": false
   },
   "outputs": [
    {
     "data": {
      "text/html": [
       "<div>\n",
       "<table border=\"1\" class=\"dataframe\">\n",
       "  <thead>\n",
       "    <tr style=\"text-align: right;\">\n",
       "      <th></th>\n",
       "      <th>count</th>\n",
       "      <th>mean</th>\n",
       "      <th>std</th>\n",
       "      <th>min</th>\n",
       "      <th>25%</th>\n",
       "      <th>50%</th>\n",
       "      <th>75%</th>\n",
       "      <th>max</th>\n",
       "    </tr>\n",
       "    <tr>\n",
       "      <th>clinic</th>\n",
       "      <th></th>\n",
       "      <th></th>\n",
       "      <th></th>\n",
       "      <th></th>\n",
       "      <th></th>\n",
       "      <th></th>\n",
       "      <th></th>\n",
       "      <th></th>\n",
       "    </tr>\n",
       "  </thead>\n",
       "  <tbody>\n",
       "    <tr>\n",
       "      <th>HMC</th>\n",
       "      <td>4839.0</td>\n",
       "      <td>9949.673900</td>\n",
       "      <td>6306.327292</td>\n",
       "      <td>2.0</td>\n",
       "      <td>5170.5</td>\n",
       "      <td>9118.0</td>\n",
       "      <td>13242.5</td>\n",
       "      <td>32462.0</td>\n",
       "    </tr>\n",
       "    <tr>\n",
       "      <th>UW</th>\n",
       "      <td>2341.0</td>\n",
       "      <td>6755.857753</td>\n",
       "      <td>5666.446256</td>\n",
       "      <td>81.0</td>\n",
       "      <td>1884.0</td>\n",
       "      <td>5582.0</td>\n",
       "      <td>10022.0</td>\n",
       "      <td>32431.0</td>\n",
       "    </tr>\n",
       "  </tbody>\n",
       "</table>\n",
       "</div>"
      ],
      "text/plain": [
       "         count         mean          std   min     25%     50%      75%  \\\n",
       "clinic                                                                    \n",
       "HMC     4839.0  9949.673900  6306.327292   2.0  5170.5  9118.0  13242.5   \n",
       "UW      2341.0  6755.857753  5666.446256  81.0  1884.0  5582.0  10022.0   \n",
       "\n",
       "            max  \n",
       "clinic           \n",
       "HMC     32462.0  \n",
       "UW      32431.0  "
      ]
     },
     "execution_count": 33,
     "metadata": {},
     "output_type": "execute_result"
    }
   ],
   "source": [
    "grouped_data = df_combined_working.groupby(['clinic'])\n",
    "grouped_data['length'].describe().unstack()"
   ]
  },
  {
   "cell_type": "code",
   "execution_count": 34,
   "metadata": {
    "collapsed": false
   },
   "outputs": [
    {
     "name": "stdout",
     "output_type": "stream",
     "text": [
      "The mean word count for HMC was 9,956.7 with  95%CI of (9776.7,10136.7)\n",
      "The mean word count for UW was 6,759.7 with  95%CI of (6527.2,6992.2)\n"
     ]
    }
   ],
   "source": [
    "l1,u1=ci_i(95,9956.677413,4839,6311.111045)\n",
    "l2,u2=ci_i(95,6759.706109,2341,5670.489293)\n",
    "\n",
    "print(\"The mean word count for HMC was 9,956.7 with  95%CI of ({:.1f},{:.1f})\".format(l1, u1))\n",
    "print(\"The mean word count for UW was 6,759.7 with  95%CI of ({:.1f},{:.1f})\".format(l2, u2))"
   ]
  },
  {
   "cell_type": "markdown",
   "metadata": {
    "collapsed": true
   },
   "source": [
    "## SUMMARY: The non-overlapping 95% CI suggests that there is a significantdifference in mean word count between controls vs. cases, and between the clinics HMC vs UW."
   ]
  },
  {
   "cell_type": "code",
   "execution_count": null,
   "metadata": {
    "collapsed": true
   },
   "outputs": [],
   "source": []
  },
  {
   "cell_type": "code",
   "execution_count": 35,
   "metadata": {
    "collapsed": false
   },
   "outputs": [
    {
     "data": {
      "text/html": [
       "<div>\n",
       "<table border=\"1\" class=\"dataframe\">\n",
       "  <thead>\n",
       "    <tr style=\"text-align: right;\">\n",
       "      <th>numCat</th>\n",
       "      <th>Control</th>\n",
       "      <th>Case</th>\n",
       "      <th>All</th>\n",
       "    </tr>\n",
       "    <tr>\n",
       "      <th>admit_year</th>\n",
       "      <th></th>\n",
       "      <th></th>\n",
       "      <th></th>\n",
       "    </tr>\n",
       "  </thead>\n",
       "  <tbody>\n",
       "    <tr>\n",
       "      <th>2015</th>\n",
       "      <td>1405</td>\n",
       "      <td>1059</td>\n",
       "      <td>2464</td>\n",
       "    </tr>\n",
       "    <tr>\n",
       "      <th>2016</th>\n",
       "      <td>1651</td>\n",
       "      <td>987</td>\n",
       "      <td>2638</td>\n",
       "    </tr>\n",
       "    <tr>\n",
       "      <th>2017</th>\n",
       "      <td>1271</td>\n",
       "      <td>807</td>\n",
       "      <td>2078</td>\n",
       "    </tr>\n",
       "    <tr>\n",
       "      <th>All</th>\n",
       "      <td>4327</td>\n",
       "      <td>2853</td>\n",
       "      <td>7180</td>\n",
       "    </tr>\n",
       "  </tbody>\n",
       "</table>\n",
       "</div>"
      ],
      "text/plain": [
       "numCat       Control  Case   All\n",
       "admit_year                      \n",
       "2015            1405  1059  2464\n",
       "2016            1651   987  2638\n",
       "2017            1271   807  2078\n",
       "All             4327  2853  7180"
      ]
     },
     "execution_count": 35,
     "metadata": {},
     "output_type": "execute_result"
    }
   ],
   "source": [
    "pd.crosstab(df_combined_working.admit_year, df_combined_working.numCat, margins=True)"
   ]
  },
  {
   "cell_type": "code",
   "execution_count": 36,
   "metadata": {
    "collapsed": false
   },
   "outputs": [
    {
     "data": {
      "text/html": [
       "<div>\n",
       "<table border=\"1\" class=\"dataframe\">\n",
       "  <thead>\n",
       "    <tr style=\"text-align: right;\">\n",
       "      <th>clinic</th>\n",
       "      <th>HMC</th>\n",
       "      <th>UW</th>\n",
       "      <th>All</th>\n",
       "    </tr>\n",
       "    <tr>\n",
       "      <th>admit_year</th>\n",
       "      <th></th>\n",
       "      <th></th>\n",
       "      <th></th>\n",
       "    </tr>\n",
       "  </thead>\n",
       "  <tbody>\n",
       "    <tr>\n",
       "      <th>2015</th>\n",
       "      <td>1836</td>\n",
       "      <td>628</td>\n",
       "      <td>2464</td>\n",
       "    </tr>\n",
       "    <tr>\n",
       "      <th>2016</th>\n",
       "      <td>1757</td>\n",
       "      <td>881</td>\n",
       "      <td>2638</td>\n",
       "    </tr>\n",
       "    <tr>\n",
       "      <th>2017</th>\n",
       "      <td>1246</td>\n",
       "      <td>832</td>\n",
       "      <td>2078</td>\n",
       "    </tr>\n",
       "    <tr>\n",
       "      <th>All</th>\n",
       "      <td>4839</td>\n",
       "      <td>2341</td>\n",
       "      <td>7180</td>\n",
       "    </tr>\n",
       "  </tbody>\n",
       "</table>\n",
       "</div>"
      ],
      "text/plain": [
       "clinic       HMC    UW   All\n",
       "admit_year                  \n",
       "2015        1836   628  2464\n",
       "2016        1757   881  2638\n",
       "2017        1246   832  2078\n",
       "All         4839  2341  7180"
      ]
     },
     "execution_count": 36,
     "metadata": {},
     "output_type": "execute_result"
    }
   ],
   "source": [
    "pd.crosstab(df_combined_working.admit_year, df_combined_working.clinic, margins=True)"
   ]
  },
  {
   "cell_type": "code",
   "execution_count": null,
   "metadata": {
    "collapsed": true
   },
   "outputs": [],
   "source": []
  },
  {
   "cell_type": "markdown",
   "metadata": {
    "collapsed": false
   },
   "source": [
    "# D.1) CUSTOMIZING STOPWORDS:\n",
    "    1. Add any extra words to stopword dictionary"
   ]
  },
  {
   "cell_type": "code",
   "execution_count": 37,
   "metadata": {
    "collapsed": false
   },
   "outputs": [],
   "source": [
    "from nltk.corpus import stopwords\n",
    "import string"
   ]
  },
  {
   "cell_type": "code",
   "execution_count": 38,
   "metadata": {
    "collapsed": false
   },
   "outputs": [],
   "source": [
    "#1. Adding new words to set called newWords, then append to library\n",
    "stopwords=nltk.corpus.stopwords.words('english')\n",
    "newWords=[\"idcc\",'a','is']\n",
    "stopwords.extend(newWords)"
   ]
  },
  {
   "cell_type": "code",
   "execution_count": null,
   "metadata": {
    "collapsed": true
   },
   "outputs": [],
   "source": []
  },
  {
   "cell_type": "markdown",
   "metadata": {},
   "source": [
    "# D.2) CREATE A TRAIN AND TEST DATASET"
   ]
  },
  {
   "cell_type": "code",
   "execution_count": 39,
   "metadata": {
    "collapsed": false
   },
   "outputs": [
    {
     "name": "stderr",
     "output_type": "stream",
     "text": [
      "C:\\Users\\arao2\\Anaconda3\\lib\\site-packages\\sklearn\\cross_validation.py:44: DeprecationWarning: This module was deprecated in version 0.18 in favor of the model_selection module into which all the refactored classes and functions are moved. Also note that the interface of the new CV iterators are different from that of this module. This module will be removed in 0.20.\n",
      "  \"This module will be removed in 0.20.\", DeprecationWarning)\n"
     ]
    }
   ],
   "source": [
    "from sklearn.cross_validation import train_test_split"
   ]
  },
  {
   "cell_type": "code",
   "execution_count": 40,
   "metadata": {
    "collapsed": false
   },
   "outputs": [],
   "source": [
    "msg_train, msg_test, label_train, label_test = \\\n",
    "train_test_split(df_combined_working['blob_string'], df_combined_working['cases'], test_size=0.3)"
   ]
  },
  {
   "cell_type": "code",
   "execution_count": null,
   "metadata": {
    "collapsed": false
   },
   "outputs": [],
   "source": []
  },
  {
   "cell_type": "markdown",
   "metadata": {},
   "source": [
    "# D.3) CREATE A PIPELINE"
   ]
  },
  {
   "cell_type": "code",
   "execution_count": 41,
   "metadata": {
    "collapsed": false
   },
   "outputs": [],
   "source": [
    "#TEXT_PROCESS\n",
    "def text_process(mess):\n",
    "    \"\"\"\n",
    "    1. remove punctuation\n",
    "    2. remove stopwords\n",
    "    3. return list of clean text words\n",
    "    \"\"\"\n",
    "\n",
    "    nopunc=[char for char in mess if char not in string.punctuation]\n",
    "    nopunc=''.join(nopunc)\n",
    "    return [word for word in nopunc.split() if word.lower() not in stopwords]"
   ]
  },
  {
   "cell_type": "code",
   "execution_count": 42,
   "metadata": {
    "collapsed": false
   },
   "outputs": [],
   "source": [
    "#COUNTVECTORIZER\n",
    "from sklearn.feature_extraction.text import CountVectorizer"
   ]
  },
  {
   "cell_type": "code",
   "execution_count": 43,
   "metadata": {
    "collapsed": false
   },
   "outputs": [],
   "source": [
    "#TFIDTRANSFORMER\n",
    "from sklearn.feature_extraction.text import TfidfTransformer"
   ]
  },
  {
   "cell_type": "code",
   "execution_count": 44,
   "metadata": {
    "collapsed": true
   },
   "outputs": [],
   "source": [
    "#MULTINOMIALNB\n",
    "from sklearn.naive_bayes import MultinomialNB"
   ]
  },
  {
   "cell_type": "code",
   "execution_count": 50,
   "metadata": {
    "collapsed": true
   },
   "outputs": [],
   "source": [
    "from sklearn.pipeline import Pipeline\n",
    "pipeline = Pipeline([\n",
    "    ('bow',CountVectorizer(analyzer=text_process)),\n",
    "    ('tfidf',TfidfTransformer()),\n",
    "    ('classifier',MultinomialNB())\n",
    "])"
   ]
  },
  {
   "cell_type": "code",
   "execution_count": 46,
   "metadata": {
    "collapsed": true
   },
   "outputs": [],
   "source": [
    "pipeline.fit(msg_train,label_train)\n",
    "predictions=pipeline.predict(msg_test)"
   ]
  },
  {
   "cell_type": "code",
   "execution_count": 47,
   "metadata": {
    "collapsed": false
   },
   "outputs": [
    {
     "name": "stdout",
     "output_type": "stream",
     "text": [
      "             precision    recall  f1-score   support\n",
      "\n",
      "          0       1.00      0.94      0.97      1294\n",
      "          1       0.92      0.99      0.96       860\n",
      "\n",
      "avg / total       0.97      0.96      0.96      2154\n",
      "\n"
     ]
    }
   ],
   "source": [
    "from sklearn.metrics import classification_report\n",
    "print (classification_report(label_test,predictions))"
   ]
  },
  {
   "cell_type": "code",
   "execution_count": null,
   "metadata": {
    "collapsed": true
   },
   "outputs": [],
   "source": [
    " "
   ]
  },
  {
   "cell_type": "markdown",
   "metadata": {
    "collapsed": true
   },
   "source": [
    "# E. NEED TO DO\n",
    "## Repeat using another model such as random-forest model\n",
    "## Which were the top words/phrases\n",
    "## Assess how well the listed words phrases did"
   ]
  },
  {
   "cell_type": "code",
   "execution_count": 51,
   "metadata": {
    "collapsed": false
   },
   "outputs": [],
   "source": [
    "#RANDOMFOREST\n",
    "from sklearn.ensemble import RandomForestClassifier\n",
    "pipeline_randfor = Pipeline([\n",
    "    ('bow',CountVectorizer(analyzer=text_process)),\n",
    "    ('tfidf',TfidfTransformer()),\n",
    "    ('classifier',RandomForestClassifier())\n",
    "])"
   ]
  },
  {
   "cell_type": "code",
   "execution_count": 52,
   "metadata": {
    "collapsed": false
   },
   "outputs": [
    {
     "name": "stdout",
     "output_type": "stream",
     "text": [
      "             precision    recall  f1-score   support\n",
      "\n",
      "          0       0.99      1.00      1.00      1294\n",
      "          1       1.00      0.99      0.99       860\n",
      "\n",
      "avg / total       0.99      0.99      0.99      2154\n",
      "\n"
     ]
    }
   ],
   "source": [
    "pipeline_randfor.fit(msg_train,label_train)\n",
    "predictions_randfor=pipeline_randfor.predict(msg_test)\n",
    "print (classification_report(label_test,predictions_randfor))"
   ]
  },
  {
   "cell_type": "markdown",
   "metadata": {},
   "source": [
    "## Random forest model produced a better prediction model than the multnomial Naive Bayes"
   ]
  },
  {
   "cell_type": "code",
   "execution_count": null,
   "metadata": {
    "collapsed": true
   },
   "outputs": [],
   "source": []
  },
  {
   "cell_type": "markdown",
   "metadata": {},
   "source": [
    "# WHATE WERE THE TOP 10 WORDS"
   ]
  },
  {
   "cell_type": "code",
   "execution_count": null,
   "metadata": {
    "collapsed": true
   },
   "outputs": [],
   "source": []
  },
  {
   "cell_type": "code",
   "execution_count": null,
   "metadata": {
    "collapsed": true
   },
   "outputs": [],
   "source": []
  },
  {
   "cell_type": "markdown",
   "metadata": {},
   "source": [
    "# ASSESSING THE GIVEN LIST"
   ]
  },
  {
   "cell_type": "code",
   "execution_count": null,
   "metadata": {
    "collapsed": true
   },
   "outputs": [],
   "source": []
  },
  {
   "cell_type": "code",
   "execution_count": null,
   "metadata": {
    "collapsed": true
   },
   "outputs": [],
   "source": []
  }
 ],
 "metadata": {
  "kernelspec": {
   "display_name": "Python [default]",
   "language": "python",
   "name": "python3"
  },
  "language_info": {
   "codemirror_mode": {
    "name": "ipython",
    "version": 3
   },
   "file_extension": ".py",
   "mimetype": "text/x-python",
   "name": "python",
   "nbconvert_exporter": "python",
   "pygments_lexer": "ipython3",
   "version": "3.5.2"
  }
 },
 "nbformat": 4,
 "nbformat_minor": 2
}
